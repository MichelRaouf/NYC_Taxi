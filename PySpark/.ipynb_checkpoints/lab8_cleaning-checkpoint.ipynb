{
 "cells": [
  {
   "cell_type": "markdown",
   "id": "artistic-sudan",
   "metadata": {},
   "source": [
    "# Lab 8 - Pre-processing large data with PySpark\n",
    "# TOC - \n",
    "\n",
    "- Column functions\n",
    "- Working with parquet files\n",
    "\t- Parquet vs csv\n",
    "\t- reading data from parquet files\n",
    "- dealing with missing\n",
    "    - detect missing, count and percentage\n",
    "\t- replace null entries\n",
    "\t\t- uni variate example\n",
    "\t- drop null entries\n",
    "- drop duplicates\n",
    "- save the clean df to a new parquet file.\n",
    "- Task\n"
   ]
  },
  {
   "cell_type": "code",
   "execution_count": 1,
   "id": "basic-tablet",
   "metadata": {
    "ExecuteTime": {
     "end_time": "2023-11-25T12:46:11.933622Z",
     "start_time": "2023-11-25T12:45:51.122993Z"
    }
   },
   "outputs": [],
   "source": [
    "## start the session\n",
    "from pyspark.sql import SparkSession\n",
    "# Initialize Spark session\n",
    "spark = SparkSession.builder.appName(\"Lab8\").getOrCreate()\n",
    "# spark context to interact with the driver\n",
    "sc = spark.sparkContext"
   ]
  },
  {
   "cell_type": "markdown",
   "id": "dynamic-guinea",
   "metadata": {},
   "source": [
    "## Column Functions"
   ]
  },
  {
   "cell_type": "markdown",
   "id": "honey-nigeria",
   "metadata": {},
   "source": [
    "### Numeric functions"
   ]
  },
  {
   "cell_type": "code",
   "execution_count": 10,
   "id": "genetic-lecture",
   "metadata": {
    "ExecuteTime": {
     "end_time": "2023-11-25T10:07:57.758615Z",
     "start_time": "2023-11-25T10:07:57.714893Z"
    }
   },
   "outputs": [],
   "source": [
    "from pyspark.sql import functions as fn\n",
    "\n",
    "columns = [\"brand\", \"cost\"]\n",
    "df = spark.createDataFrame([\n",
    "    (\"garnier\", 3.49),\n",
    "    (\"elseve\", 2.71)\n",
    "], columns)\n",
    "\n",
    "round_cost = fn.round(df.cost, 1)\n",
    "floor_cost = fn.floor(df.cost)\n",
    "ceil_cost = fn.ceil(df.cost)"
   ]
  },
  {
   "cell_type": "code",
   "execution_count": 4,
   "id": "julian-height",
   "metadata": {
    "ExecuteTime": {
     "end_time": "2023-11-25T10:04:21.663603Z",
     "start_time": "2023-11-25T10:04:21.250563Z"
    },
    "scrolled": true
   },
   "outputs": [
    {
     "name": "stdout",
     "output_type": "stream",
     "text": [
      "+-------+----+-----+-----+----+\n",
      "|  brand|cost|round|floor|ceil|\n",
      "+-------+----+-----+-----+----+\n",
      "|garnier|3.49|  3.5|    3|   4|\n",
      "| elseve|2.71|  2.7|    2|   3|\n",
      "+-------+----+-----+-----+----+\n",
      "\n"
     ]
    }
   ],
   "source": [
    "df.withColumn('round', round_cost)\\\n",
    "    .withColumn('floor', floor_cost)\\\n",
    "    .withColumn('ceil', ceil_cost)\\\n",
    "    .show()"
   ]
  },
  {
   "cell_type": "markdown",
   "id": "phantom-seller",
   "metadata": {},
   "source": [
    "**Important** :Notice How the original dataframe did not change? you have to assign the changes to a new df as such"
   ]
  },
  {
   "cell_type": "code",
   "execution_count": 14,
   "id": "nervous-sperm",
   "metadata": {
    "ExecuteTime": {
     "end_time": "2023-11-25T10:08:33.512267Z",
     "start_time": "2023-11-25T10:08:33.490392Z"
    }
   },
   "outputs": [],
   "source": [
    "df2 = df.withColumn('round', round_cost)\\\n",
    "    .withColumn('floor', floor_cost)\\\n",
    "    .withColumn('ceil', ceil_cost)"
   ]
  },
  {
   "cell_type": "code",
   "execution_count": 15,
   "id": "south-confidence",
   "metadata": {
    "ExecuteTime": {
     "end_time": "2023-11-25T10:08:34.343434Z",
     "start_time": "2023-11-25T10:08:34.067765Z"
    },
    "scrolled": true
   },
   "outputs": [
    {
     "name": "stdout",
     "output_type": "stream",
     "text": [
      "+-------+----+-----+-----+----+\n",
      "|  brand|cost|round|floor|ceil|\n",
      "+-------+----+-----+-----+----+\n",
      "|garnier|3.49|  3.5|    3|   4|\n",
      "| elseve|2.71|  2.7|    2|   3|\n",
      "+-------+----+-----+-----+----+\n",
      "\n"
     ]
    }
   ],
   "source": [
    "df2.show()"
   ]
  },
  {
   "cell_type": "markdown",
   "id": "outer-midwest",
   "metadata": {},
   "source": [
    "### Datetime functions"
   ]
  },
  {
   "cell_type": "code",
   "execution_count": null,
   "id": "necessary-wages",
   "metadata": {},
   "outputs": [],
   "source": [
    "from datetime import date\n",
    "from pyspark.sql import functions as fn\n",
    "\n",
    "df = spark.createDataFrame([\n",
    "    (date(2015, 1, 1), date(2015, 1, 15)),\n",
    "    (date(2015, 2, 21), date(2015, 3, 8)),\n",
    "], [\"start_date\", \"end_date\"])\n",
    "\n",
    "days_between = fn.datediff(df.end_date, df.start_date)\n",
    "start_month = fn.month(df.start_date)\n",
    "\n",
    "df.withColumn('days_between', days_between)\\\n",
    "    .withColumn('start_month', start_month)\\\n",
    "    .show()"
   ]
  },
  {
   "cell_type": "markdown",
   "id": "noticed-carroll",
   "metadata": {},
   "source": [
    "### User-defined functions"
   ]
  },
  {
   "cell_type": "code",
   "execution_count": null,
   "id": "focal-reminder",
   "metadata": {},
   "outputs": [],
   "source": [
    "from pyspark.sql import functions as fn\n",
    "from pyspark.sql.types import StringType\n",
    "\n",
    "df = spark.createDataFrame([(1, 3), (4, 2)], [\"first\", \"second\"])\n",
    "\n",
    "def my_func(col_1, col_2):\n",
    "    if (col_1 > col_2):\n",
    "        return \"{} is bigger than {}\".format(col_1, col_2)\n",
    "    else:\n",
    "        return \"{} is bigger than {}\".format(col_2, col_1)\n",
    "\n",
    "my_udf = fn.udf(my_func, StringType())\n",
    "\n",
    "df.withColumn(\"udf\", my_udf(df['first'], df['second'])).show()"
   ]
  },
  {
   "cell_type": "markdown",
   "id": "mounted-sampling",
   "metadata": {},
   "source": [
    "**EXTREMELY IMPORTANT note on UDFs**: \n",
    "\n",
    "Creating UDFs should be a last resort. Only write a UDF if you are certain tha the functionallity you to implement cannot be done using spark functions which is usually not the case. Writing UDFs is exteremly risky and can be too costly as the code isnot optimised unlike the spark functions/API."
   ]
  },
  {
   "cell_type": "markdown",
   "id": "dated-friend",
   "metadata": {},
   "source": [
    "## Working with Parquet Files"
   ]
  },
  {
   "cell_type": "markdown",
   "id": "induced-deployment",
   "metadata": {},
   "source": [
    "what is parquet and its advatnages [source](https://sparkbyexamples.com/pyspark/pyspark-read-and-write-parquet-file/)"
   ]
  },
  {
   "cell_type": "markdown",
   "id": "fancy-ownership",
   "metadata": {},
   "source": [
    "What is Parquet File?\n",
    "\n",
    "Apache Parquet file is a columnar storage format available to any project in the Hadoop ecosystem, regardless of the choice of data processing framework, data model, or programming language.\n",
    "Advantages:\n",
    "\n",
    "While querying columnar storage, it skips the nonrelevant data very quickly, making faster query execution. As a result aggregation queries consume less time compared to row-oriented databases.\n",
    "\n",
    "It is able to support advanced nested data structures.\n",
    "\n",
    "Parquet supports efficient compression options and encoding schemes.\n",
    "\n",
    "Pyspark SQL provides support for both reading and writing Parquet files that automatically capture the schema of the original data, It also reduces data storage by 75% on average. Pyspark by default supports Parquet in its library hence we don’t need to add any dependency libraries."
   ]
  },
  {
   "cell_type": "markdown",
   "id": "verified-legislature",
   "metadata": {},
   "source": [
    "### Reading Data from Parquet Files"
   ]
  },
  {
   "cell_type": "code",
   "execution_count": 19,
   "id": "cordless-grill",
   "metadata": {
    "ExecuteTime": {
     "end_time": "2023-11-25T10:22:05.949142Z",
     "start_time": "2023-11-25T10:22:05.522042Z"
    }
   },
   "outputs": [],
   "source": [
    "df_names = spark.read.parquet('../data/baby_names_unclean.parquet')"
   ]
  },
  {
   "cell_type": "code",
   "execution_count": 20,
   "id": "institutional-alaska",
   "metadata": {
    "ExecuteTime": {
     "end_time": "2023-11-25T10:22:06.822292Z",
     "start_time": "2023-11-25T10:22:06.818652Z"
    }
   },
   "outputs": [
    {
     "name": "stdout",
     "output_type": "stream",
     "text": [
      "root\n",
      " |-- name: string (nullable = true)\n",
      " |-- n: double (nullable = true)\n",
      " |-- sex: string (nullable = true)\n",
      " |-- year: double (nullable = true)\n",
      "\n"
     ]
    }
   ],
   "source": [
    "df_names.printSchema()"
   ]
  },
  {
   "cell_type": "code",
   "execution_count": 22,
   "id": "durable-spice",
   "metadata": {
    "ExecuteTime": {
     "end_time": "2023-11-25T10:22:23.145817Z",
     "start_time": "2023-11-25T10:22:23.042339Z"
    }
   },
   "outputs": [
    {
     "name": "stdout",
     "output_type": "stream",
     "text": [
      "+----------+-----+---+------+\n",
      "|      name|    n|sex|  year|\n",
      "+----------+-----+---+------+\n",
      "|    Emilia|112.0|  F|1985.0|\n",
      "|     Kelsi|112.0|  F|1985.0|\n",
      "|    Margot|112.0|  F|1985.0|\n",
      "|    Mariam|112.0|  F|1985.0|\n",
      "|  Scarlett|112.0|  F|1985.0|\n",
      "|      Aida|111.0|  F|1985.0|\n",
      "|    Ashlei|111.0|  F|1985.0|\n",
      "|     Greta|111.0|  F|1985.0|\n",
      "|    Jaimee|111.0|  F|1985.0|\n",
      "|     Lorna|111.0|  F|1985.0|\n",
      "|   Rosario|111.0|  F|1985.0|\n",
      "|     Sandi|111.0|  F|1985.0|\n",
      "|   Sharina|111.0|  F|1985.0|\n",
      "|    Tashia|111.0|  F|1985.0|\n",
      "|     Adina|110.0|  F|1985.0|\n",
      "|    Ahsley|110.0|  F|1985.0|\n",
      "|Alessandra|110.0|  F|1985.0|\n",
      "|    Amalia|110.0|  F|1985.0|\n",
      "|    Chelsi|110.0|  F|1985.0|\n",
      "|    Darcie|110.0|  F|1985.0|\n",
      "+----------+-----+---+------+\n",
      "only showing top 20 rows\n",
      "\n"
     ]
    }
   ],
   "source": [
    "df_names.show()"
   ]
  },
  {
   "cell_type": "code",
   "execution_count": 23,
   "id": "amateur-browser",
   "metadata": {
    "ExecuteTime": {
     "end_time": "2023-11-25T10:23:05.367735Z",
     "start_time": "2023-11-25T10:23:05.267240Z"
    },
    "collapsed": true
   },
   "outputs": [
    {
     "name": "stdout",
     "output_type": "stream",
     "text": [
      "-RECORD 0----------\n",
      " name | Emilia     \n",
      " n    | 112.0      \n",
      " sex  | F          \n",
      " year | 1985.0     \n",
      "-RECORD 1----------\n",
      " name | Kelsi      \n",
      " n    | 112.0      \n",
      " sex  | F          \n",
      " year | 1985.0     \n",
      "-RECORD 2----------\n",
      " name | Margot     \n",
      " n    | 112.0      \n",
      " sex  | F          \n",
      " year | 1985.0     \n",
      "-RECORD 3----------\n",
      " name | Mariam     \n",
      " n    | 112.0      \n",
      " sex  | F          \n",
      " year | 1985.0     \n",
      "-RECORD 4----------\n",
      " name | Scarlett   \n",
      " n    | 112.0      \n",
      " sex  | F          \n",
      " year | 1985.0     \n",
      "-RECORD 5----------\n",
      " name | Aida       \n",
      " n    | 111.0      \n",
      " sex  | F          \n",
      " year | 1985.0     \n",
      "-RECORD 6----------\n",
      " name | Ashlei     \n",
      " n    | 111.0      \n",
      " sex  | F          \n",
      " year | 1985.0     \n",
      "-RECORD 7----------\n",
      " name | Greta      \n",
      " n    | 111.0      \n",
      " sex  | F          \n",
      " year | 1985.0     \n",
      "-RECORD 8----------\n",
      " name | Jaimee     \n",
      " n    | 111.0      \n",
      " sex  | F          \n",
      " year | 1985.0     \n",
      "-RECORD 9----------\n",
      " name | Lorna      \n",
      " n    | 111.0      \n",
      " sex  | F          \n",
      " year | 1985.0     \n",
      "-RECORD 10---------\n",
      " name | Rosario    \n",
      " n    | 111.0      \n",
      " sex  | F          \n",
      " year | 1985.0     \n",
      "-RECORD 11---------\n",
      " name | Sandi      \n",
      " n    | 111.0      \n",
      " sex  | F          \n",
      " year | 1985.0     \n",
      "-RECORD 12---------\n",
      " name | Sharina    \n",
      " n    | 111.0      \n",
      " sex  | F          \n",
      " year | 1985.0     \n",
      "-RECORD 13---------\n",
      " name | Tashia     \n",
      " n    | 111.0      \n",
      " sex  | F          \n",
      " year | 1985.0     \n",
      "-RECORD 14---------\n",
      " name | Adina      \n",
      " n    | 110.0      \n",
      " sex  | F          \n",
      " year | 1985.0     \n",
      "-RECORD 15---------\n",
      " name | Ahsley     \n",
      " n    | 110.0      \n",
      " sex  | F          \n",
      " year | 1985.0     \n",
      "-RECORD 16---------\n",
      " name | Alessandra \n",
      " n    | 110.0      \n",
      " sex  | F          \n",
      " year | 1985.0     \n",
      "-RECORD 17---------\n",
      " name | Amalia     \n",
      " n    | 110.0      \n",
      " sex  | F          \n",
      " year | 1985.0     \n",
      "-RECORD 18---------\n",
      " name | Chelsi     \n",
      " n    | 110.0      \n",
      " sex  | F          \n",
      " year | 1985.0     \n",
      "-RECORD 19---------\n",
      " name | Darcie     \n",
      " n    | 110.0      \n",
      " sex  | F          \n",
      " year | 1985.0     \n",
      "only showing top 20 rows\n",
      "\n"
     ]
    }
   ],
   "source": [
    "## useful if there are many features, view each record as a column\n",
    "df_names.show(vertical=True)"
   ]
  },
  {
   "cell_type": "code",
   "execution_count": null,
   "id": "serial-shield",
   "metadata": {},
   "outputs": [],
   "source": []
  },
  {
   "cell_type": "markdown",
   "id": "naughty-three",
   "metadata": {},
   "source": [
    "Summary of df. similar to info. however note that this is a costly operation."
   ]
  },
  {
   "cell_type": "code",
   "execution_count": 24,
   "id": "hispanic-arlington",
   "metadata": {
    "ExecuteTime": {
     "end_time": "2023-11-25T10:24:29.546876Z",
     "start_time": "2023-11-25T10:24:08.258297Z"
    }
   },
   "outputs": [],
   "source": [
    "# summary of the df\n",
    "df_summary = df_names.summary()"
   ]
  },
  {
   "cell_type": "code",
   "execution_count": 25,
   "id": "printable-perspective",
   "metadata": {
    "ExecuteTime": {
     "end_time": "2023-11-25T10:25:11.447505Z",
     "start_time": "2023-11-25T10:25:11.443456Z"
    },
    "scrolled": true
   },
   "outputs": [
    {
     "name": "stdout",
     "output_type": "stream",
     "text": [
      "root\n",
      " |-- summary: string (nullable = true)\n",
      " |-- name: string (nullable = true)\n",
      " |-- n: string (nullable = true)\n",
      " |-- sex: string (nullable = true)\n",
      " |-- year: string (nullable = true)\n",
      "\n"
     ]
    }
   ],
   "source": [
    "df_summary.printSchema()"
   ]
  },
  {
   "cell_type": "code",
   "execution_count": 27,
   "id": "representative-median",
   "metadata": {
    "ExecuteTime": {
     "end_time": "2023-11-25T10:25:24.914978Z",
     "start_time": "2023-11-25T10:25:24.882129Z"
    },
    "scrolled": true
   },
   "outputs": [
    {
     "name": "stdout",
     "output_type": "stream",
     "text": [
      "+-------+-------+------------------+-------+------------------+\n",
      "|summary|   name|                 n|    sex|              year|\n",
      "+-------+-------+------------------+-------+------------------+\n",
      "|  count|1923793|           1923747|1923712|           1924665|\n",
      "|   mean|    NaN|180.86667373620335|   null|1974.8509943288832|\n",
      "| stddev|    NaN|1533.3759020310818|   null| 34.02947955836246|\n",
      "|    min|  Aaban|               5.0|      F|            1880.0|\n",
      "|    25%|    NaN|               7.0|   null|            1951.0|\n",
      "|    50%|    NaN|              12.0|   null|            1985.0|\n",
      "|    75%|    NaN|              32.0|   null|            2003.0|\n",
      "|    max|  Zzyzx|           99686.0|      M|            2017.0|\n",
      "+-------+-------+------------------+-------+------------------+\n",
      "\n"
     ]
    }
   ],
   "source": [
    "df_summary.show()"
   ]
  },
  {
   "cell_type": "code",
   "execution_count": 30,
   "id": "operating-weapon",
   "metadata": {
    "ExecuteTime": {
     "end_time": "2023-11-25T10:26:22.616566Z",
     "start_time": "2023-11-25T10:26:22.578454Z"
    },
    "scrolled": true
   },
   "outputs": [
    {
     "name": "stdout",
     "output_type": "stream",
     "text": [
      "+-------+-------+\n",
      "|summary|   name|\n",
      "+-------+-------+\n",
      "|  count|1923793|\n",
      "|   mean|    NaN|\n",
      "| stddev|    NaN|\n",
      "|    min|  Aaban|\n",
      "|    25%|    NaN|\n",
      "|    50%|    NaN|\n",
      "|    75%|    NaN|\n",
      "|    max|  Zzyzx|\n",
      "+-------+-------+\n",
      "\n"
     ]
    }
   ],
   "source": [
    "## selectiing specific columns\n",
    "df_summary.select('summary','name').show()"
   ]
  },
  {
   "cell_type": "markdown",
   "id": "municipal-intranet",
   "metadata": {},
   "source": [
    "## Dealing with Missing Data\n",
    "\n",
    "### Detect Missing Data, Count, and Percentage\n",
    "\n",
    "To detect missing values we will use the fucniton isNull from the column class under the spark.sql.fucntions\n",
    "\n",
    "Syntax of isNull() -> column_name.isNull()"
   ]
  },
  {
   "cell_type": "code",
   "execution_count": 32,
   "id": "behind-bundle",
   "metadata": {
    "ExecuteTime": {
     "end_time": "2023-11-25T10:36:25.959141Z",
     "start_time": "2023-11-25T10:36:25.956658Z"
    }
   },
   "outputs": [],
   "source": [
    "from pyspark.sql.functions import col"
   ]
  },
  {
   "cell_type": "code",
   "execution_count": 37,
   "id": "foster-toyota",
   "metadata": {
    "ExecuteTime": {
     "end_time": "2023-11-25T10:39:05.624689Z",
     "start_time": "2023-11-25T10:39:05.330874Z"
    }
   },
   "outputs": [],
   "source": [
    "names_null_count = df_names.filter(df_names.name.isNull()).count()"
   ]
  },
  {
   "cell_type": "code",
   "execution_count": 38,
   "id": "palestinian-synthetic",
   "metadata": {
    "ExecuteTime": {
     "end_time": "2023-11-25T10:39:46.420857Z",
     "start_time": "2023-11-25T10:39:46.305476Z"
    }
   },
   "outputs": [],
   "source": [
    "len_name = df_names.count()\n",
    "perc = (names_null_count / len_name) * 100"
   ]
  },
  {
   "cell_type": "code",
   "execution_count": 39,
   "id": "written-photography",
   "metadata": {
    "ExecuteTime": {
     "end_time": "2023-11-25T10:39:50.181151Z",
     "start_time": "2023-11-25T10:39:50.177520Z"
    }
   },
   "outputs": [
    {
     "data": {
      "text/plain": [
       "0.045306585821428665"
      ]
     },
     "execution_count": 39,
     "metadata": {},
     "output_type": "execute_result"
    }
   ],
   "source": [
    "perc"
   ]
  },
  {
   "cell_type": "markdown",
   "id": "bearing-spokesman",
   "metadata": {},
   "source": [
    "### Replace Null Entries"
   ]
  },
  {
   "cell_type": "markdown",
   "id": "destroyed-convertible",
   "metadata": {},
   "source": [
    "#### Univariate Example\n",
    "Replace missing names with it mode.\n",
    "There is no mode funciton that can be used directly on a column similar to min,max and so on. \n",
    "\n",
    "So what we have to do is groupby the target column,sort by count desc and limit 1. Just like writing a query.\n"
   ]
  },
  {
   "cell_type": "code",
   "execution_count": 45,
   "id": "beautiful-evolution",
   "metadata": {
    "ExecuteTime": {
     "end_time": "2023-11-25T10:55:22.779458Z",
     "start_time": "2023-11-25T10:55:22.721762Z"
    }
   },
   "outputs": [],
   "source": [
    "mode_df = df_names.groupBy('name').count().orderBy(col('count').desc()).limit(1)"
   ]
  },
  {
   "cell_type": "code",
   "execution_count": 63,
   "id": "retired-gauge",
   "metadata": {
    "ExecuteTime": {
     "end_time": "2023-11-25T11:07:04.690558Z",
     "start_time": "2023-11-25T11:07:03.536195Z"
    }
   },
   "outputs": [
    {
     "name": "stdout",
     "output_type": "stream",
     "text": [
      "+----+-----+\n",
      "|name|count|\n",
      "+----+-----+\n",
      "|null|  872|\n",
      "+----+-----+\n",
      "\n"
     ]
    }
   ],
   "source": [
    "mode_df.show()"
   ]
  },
  {
   "cell_type": "markdown",
   "id": "bacterial-broadcasting",
   "metadata": {},
   "source": [
    "Notice how this return a df. to access the value of count we will access the column count, then extract the column using collect, which returns an rdd. we will access the first row, and its first element to extract the mode."
   ]
  },
  {
   "cell_type": "code",
   "execution_count": 62,
   "id": "suitable-sally",
   "metadata": {
    "ExecuteTime": {
     "end_time": "2023-11-25T11:06:16.835669Z",
     "start_time": "2023-11-25T11:06:15.904764Z"
    },
    "scrolled": true
   },
   "outputs": [
    {
     "data": {
      "text/plain": [
       "872"
      ]
     },
     "execution_count": 62,
     "metadata": {},
     "output_type": "execute_result"
    }
   ],
   "source": [
    "mode_df.select('name').collect()[0][0]"
   ]
  },
  {
   "cell_type": "code",
   "execution_count": 67,
   "id": "pointed-tender",
   "metadata": {
    "ExecuteTime": {
     "end_time": "2023-11-25T11:21:41.506038Z",
     "start_time": "2023-11-25T11:21:41.503919Z"
    }
   },
   "outputs": [],
   "source": [
    "## Note that because of the nature of this of dataset there is a column called n\n",
    "## Which represents how many times that name was given to a baby in a given year. \n",
    "# The code above was mainly for demonstaration\n",
    "# You can try out your self to figure how to write a query to extract the most common name across all years.\n",
    "# for now we will just impute the missing values in sex using the mode"
   ]
  },
  {
   "cell_type": "code",
   "execution_count": 79,
   "id": "cardiac-miami",
   "metadata": {
    "ExecuteTime": {
     "end_time": "2023-11-25T11:28:15.654987Z",
     "start_time": "2023-11-25T11:28:15.631930Z"
    }
   },
   "outputs": [],
   "source": [
    "mode_gender = df_names.groupBy('sex').count().orderBy(col('count').desc()).limit(1)"
   ]
  },
  {
   "cell_type": "code",
   "execution_count": 80,
   "id": "standard-reconstruction",
   "metadata": {
    "ExecuteTime": {
     "end_time": "2023-11-25T11:28:25.587515Z",
     "start_time": "2023-11-25T11:28:25.088003Z"
    }
   },
   "outputs": [],
   "source": [
    "mode_gender = mode_gender.select('sex').collect()[0][0]"
   ]
  },
  {
   "cell_type": "code",
   "execution_count": 81,
   "id": "proper-catholic",
   "metadata": {
    "ExecuteTime": {
     "end_time": "2023-11-25T11:28:26.963138Z",
     "start_time": "2023-11-25T11:28:26.959391Z"
    }
   },
   "outputs": [
    {
     "data": {
      "text/plain": [
       "'F'"
      ]
     },
     "execution_count": 81,
     "metadata": {},
     "output_type": "execute_result"
    }
   ],
   "source": [
    "mode_gender"
   ]
  },
  {
   "cell_type": "code",
   "execution_count": 83,
   "id": "ready-brush",
   "metadata": {
    "ExecuteTime": {
     "end_time": "2023-11-25T11:31:29.567226Z",
     "start_time": "2023-11-25T11:31:29.551865Z"
    }
   },
   "outputs": [],
   "source": [
    "## fillna\n",
    "df_names_imputed = df_names.fillna(value = mode_gender,subset=['sex'])"
   ]
  },
  {
   "cell_type": "code",
   "execution_count": 87,
   "id": "hungarian-gambling",
   "metadata": {
    "ExecuteTime": {
     "end_time": "2023-11-25T11:33:28.495350Z",
     "start_time": "2023-11-25T11:33:28.329460Z"
    }
   },
   "outputs": [
    {
     "data": {
      "text/plain": [
       "0"
      ]
     },
     "execution_count": 87,
     "metadata": {},
     "output_type": "execute_result"
    }
   ],
   "source": [
    "# check \n",
    "df_names_imputed.filter(df_names_imputed.sex.isNull()).count()"
   ]
  },
  {
   "cell_type": "markdown",
   "id": "realistic-anchor",
   "metadata": {},
   "source": [
    "### Drop Null Entries"
   ]
  },
  {
   "cell_type": "markdown",
   "id": "swedish-cleaners",
   "metadata": {},
   "source": [
    "Drop rows"
   ]
  },
  {
   "cell_type": "code",
   "execution_count": 89,
   "id": "vertical-caribbean",
   "metadata": {
    "ExecuteTime": {
     "end_time": "2023-11-25T11:35:14.011490Z",
     "start_time": "2023-11-25T11:35:13.663937Z"
    }
   },
   "outputs": [
    {
     "data": {
      "text/plain": [
       "1921922"
      ]
     },
     "execution_count": 89,
     "metadata": {},
     "output_type": "execute_result"
    }
   ],
   "source": [
    "#count after dropping, any row with one null entry\n",
    "df_names.dropna().count()"
   ]
  },
  {
   "cell_type": "markdown",
   "id": "substantial-control",
   "metadata": {},
   "source": [
    "`dropna` accepts the following arguments\n",
    "\n",
    "- `how`: can be `'any'` or `'all'`. If `'any'`, rows containing any null values will be dropped entirely (this is the default). If `'all'`, only rows which are entirely empty will be dropped.\n",
    "\n",
    "- `thresh`: accepts an integer representing the \"threshold\" for how many empty cells a row must have before being dropped. `tresh` is a middle ground between `how='any'` and `how='all'`. As a result, the presence of `thresh` will override `how`\n",
    "\n",
    "- `subset`: accepts a list of column names. When a subset is present, N/A values will only be checked against the columns whose names are provided."
   ]
  },
  {
   "cell_type": "markdown",
   "id": "desirable-crazy",
   "metadata": {},
   "source": [
    "## Drop Duplicates"
   ]
  },
  {
   "cell_type": "code",
   "execution_count": 92,
   "id": "heated-priority",
   "metadata": {
    "ExecuteTime": {
     "end_time": "2023-11-25T11:38:21.255166Z",
     "start_time": "2023-11-25T11:38:18.271819Z"
    },
    "scrolled": false
   },
   "outputs": [
    {
     "data": {
      "text/plain": [
       "1924581"
      ]
     },
     "execution_count": 92,
     "metadata": {},
     "output_type": "execute_result"
    }
   ],
   "source": [
    "df_names.dropDuplicates().count()"
   ]
  },
  {
   "cell_type": "markdown",
   "id": "processed-medline",
   "metadata": {},
   "source": [
    "You can also pass a subset as such"
   ]
  },
  {
   "cell_type": "code",
   "execution_count": 94,
   "id": "industrial-storm",
   "metadata": {
    "ExecuteTime": {
     "end_time": "2023-11-25T11:38:45.416363Z",
     "start_time": "2023-11-25T11:38:43.455630Z"
    },
    "scrolled": true
   },
   "outputs": [
    {
     "data": {
      "text/plain": [
       "1048444"
      ]
     },
     "execution_count": 94,
     "metadata": {},
     "output_type": "execute_result"
    }
   ],
   "source": [
    "df_names.dropDuplicates(['name','sex','n']).count()"
   ]
  },
  {
   "cell_type": "markdown",
   "id": "functioning-hands",
   "metadata": {},
   "source": [
    "## Save the Clean DataFrame to a New DataFrame"
   ]
  },
  {
   "cell_type": "code",
   "execution_count": 95,
   "id": "fantastic-jimmy",
   "metadata": {
    "ExecuteTime": {
     "end_time": "2023-11-25T11:41:11.900478Z",
     "start_time": "2023-11-25T11:41:11.295703Z"
    }
   },
   "outputs": [],
   "source": [
    "df_names.write.parquet(\"baby_names_postlab.parquet\") "
   ]
  },
  {
   "cell_type": "markdown",
   "id": "foreign-purchase",
   "metadata": {},
   "source": [
    "Notice that after writing to parquet it doesnt create 1 parquet file but multiple ones. that is because each partiton of the df is written as a parquet file. We will discuss partitioning in more detail in the next lab."
   ]
  },
  {
   "cell_type": "code",
   "execution_count": 96,
   "id": "stable-warehouse",
   "metadata": {
    "ExecuteTime": {
     "end_time": "2023-11-25T11:44:14.038863Z",
     "start_time": "2023-11-25T11:44:12.911080Z"
    }
   },
   "outputs": [],
   "source": [
    "## stop the driver\n",
    "sc.stop()"
   ]
  },
  {
   "cell_type": "markdown",
   "id": "sublime-preview",
   "metadata": {},
   "source": [
    "## Task - Cleaning and encoding green taxis dataset"
   ]
  },
  {
   "cell_type": "markdown",
   "id": "medical-freedom",
   "metadata": {},
   "source": [
    "- read the parquet file. tip: viewing the df can be very ugly if there are many features. you can choose the option vertical=TRUE to view each record as a column rather than a row.(`df.show(vertical=True)`)\n",
    "- For columns 'ehail_fee' and 'congestion_surcharge' replace nulls with 0.\n",
    "- For 'payment_type' replace the missing values the mode.\n",
    "- Create a new column called `distance_km` that calculates the distance in km. It is currenlty in miles. 1 mile = 1.61 km. \n",
    "- save the parquet file."
   ]
  },
  {
   "cell_type": "code",
   "execution_count": 3,
   "id": "orange-playback",
   "metadata": {
    "ExecuteTime": {
     "end_time": "2023-11-25T12:48:07.472943Z",
     "start_time": "2023-11-25T12:47:54.777966Z"
    }
   },
   "outputs": [
    {
     "name": "stdout",
     "output_type": "stream",
     "text": [
      "-RECORD 0------------------------------------\n",
      " VendorID              | 2                   \n",
      " lpep_pickup_datetime  | 2015-07-01 02:12:55 \n",
      " lpep_dropoff_datetime | 2015-07-01 02:16:53 \n",
      " store_and_fwd_flag    | N                   \n",
      " RatecodeID            | 1                   \n",
      " PULocationID          | 256                 \n",
      " DOLocationID          | 37                  \n",
      " passenger_count       | 1                   \n",
      " trip_distance         | 0.88                \n",
      " fare_amount           | 5.0                 \n",
      " extra                 | 0.5                 \n",
      " mta_tax               | 0.5                 \n",
      " tip_amount            | 1.58                \n",
      " tolls_amount          | 0.0                 \n",
      " ehail_fee             | null                \n",
      " improvement_surcharge | 0.3                 \n",
      " total_amount          | 7.88                \n",
      " payment_type          | 1                   \n",
      " trip_type             | 1.0                 \n",
      " congestion_surcharge  | null                \n",
      "-RECORD 1------------------------------------\n",
      " VendorID              | 2                   \n",
      " lpep_pickup_datetime  | 2015-07-01 02:38:35 \n",
      " lpep_dropoff_datetime | 2015-07-01 02:49:22 \n",
      " store_and_fwd_flag    | N                   \n",
      " RatecodeID            | 1                   \n",
      " PULocationID          | 256                 \n",
      " DOLocationID          | 198                 \n",
      " passenger_count       | 1                   \n",
      " trip_distance         | 3.0                 \n",
      " fare_amount           | 11.0                \n",
      " extra                 | 0.5                 \n",
      " mta_tax               | 0.5                 \n",
      " tip_amount            | 2.46                \n",
      " tolls_amount          | 0.0                 \n",
      " ehail_fee             | null                \n",
      " improvement_surcharge | 0.3                 \n",
      " total_amount          | 14.76               \n",
      " payment_type          | 1                   \n",
      " trip_type             | 1.0                 \n",
      " congestion_surcharge  | null                \n",
      "-RECORD 2------------------------------------\n",
      " VendorID              | 2                   \n",
      " lpep_pickup_datetime  | 2015-07-01 02:59:01 \n",
      " lpep_dropoff_datetime | 2015-07-01 03:04:10 \n",
      " store_and_fwd_flag    | N                   \n",
      " RatecodeID            | 1                   \n",
      " PULocationID          | 36                  \n",
      " DOLocationID          | 80                  \n",
      " passenger_count       | 1                   \n",
      " trip_distance         | 1.61                \n",
      " fare_amount           | 6.5                 \n",
      " extra                 | 0.5                 \n",
      " mta_tax               | 0.5                 \n",
      " tip_amount            | 0.0                 \n",
      " tolls_amount          | 0.0                 \n",
      " ehail_fee             | null                \n",
      " improvement_surcharge | 0.3                 \n",
      " total_amount          | 7.8                 \n",
      " payment_type          | 2                   \n",
      " trip_type             | 1.0                 \n",
      " congestion_surcharge  | null                \n",
      "-RECORD 3------------------------------------\n",
      " VendorID              | 2                   \n",
      " lpep_pickup_datetime  | 2015-07-01 02:48:41 \n",
      " lpep_dropoff_datetime | 2015-07-01 02:54:24 \n",
      " store_and_fwd_flag    | N                   \n",
      " RatecodeID            | 1                   \n",
      " PULocationID          | 35                  \n",
      " DOLocationID          | 72                  \n",
      " passenger_count       | 1                   \n",
      " trip_distance         | 0.0                 \n",
      " fare_amount           | 5.0                 \n",
      " extra                 | 0.5                 \n",
      " mta_tax               | 0.5                 \n",
      " tip_amount            | 1.26                \n",
      " tolls_amount          | 0.0                 \n",
      " ehail_fee             | null                \n",
      " improvement_surcharge | 0.3                 \n",
      " total_amount          | 7.56                \n",
      " payment_type          | 1                   \n",
      " trip_type             | 1.0                 \n",
      " congestion_surcharge  | null                \n",
      "-RECORD 4------------------------------------\n",
      " VendorID              | 2                   \n",
      " lpep_pickup_datetime  | 2015-07-01 02:56:28 \n",
      " lpep_dropoff_datetime | 2015-07-01 03:07:45 \n",
      " store_and_fwd_flag    | N                   \n",
      " RatecodeID            | 1                   \n",
      " PULocationID          | 72                  \n",
      " DOLocationID          | 35                  \n",
      " passenger_count       | 1                   \n",
      " trip_distance         | 0.0                 \n",
      " fare_amount           | 8.0                 \n",
      " extra                 | 0.5                 \n",
      " mta_tax               | 0.5                 \n",
      " tip_amount            | 1.86                \n",
      " tolls_amount          | 0.0                 \n",
      " ehail_fee             | null                \n",
      " improvement_surcharge | 0.3                 \n",
      " total_amount          | 11.16               \n",
      " payment_type          | 1                   \n",
      " trip_type             | 1.0                 \n",
      " congestion_surcharge  | null                \n",
      "-RECORD 5------------------------------------\n",
      " VendorID              | 2                   \n",
      " lpep_pickup_datetime  | 2015-07-01 02:21:37 \n",
      " lpep_dropoff_datetime | 2015-07-01 02:27:49 \n",
      " store_and_fwd_flag    | N                   \n",
      " RatecodeID            | 1                   \n",
      " PULocationID          | 223                 \n",
      " DOLocationID          | 223                 \n",
      " passenger_count       | 1                   \n",
      " trip_distance         | 1.39                \n",
      " fare_amount           | 7.0                 \n",
      " extra                 | 0.5                 \n",
      " mta_tax               | 0.5                 \n",
      " tip_amount            | 0.0                 \n",
      " tolls_amount          | 0.0                 \n",
      " ehail_fee             | null                \n",
      " improvement_surcharge | 0.3                 \n",
      " total_amount          | 8.3                 \n",
      " payment_type          | 2                   \n",
      " trip_type             | 1.0                 \n",
      " congestion_surcharge  | null                \n",
      "-RECORD 6------------------------------------\n",
      " VendorID              | 2                   \n",
      " lpep_pickup_datetime  | 2015-07-01 02:39:06 \n",
      " lpep_dropoff_datetime | 2015-07-01 02:41:33 \n",
      " store_and_fwd_flag    | N                   \n",
      " RatecodeID            | 1                   \n",
      " PULocationID          | 223                 \n",
      " DOLocationID          | 223                 \n",
      " passenger_count       | 1                   \n",
      " trip_distance         | 0.76                \n",
      " fare_amount           | 4.5                 \n",
      " extra                 | 0.5                 \n",
      " mta_tax               | 0.5                 \n",
      " tip_amount            | 0.0                 \n",
      " tolls_amount          | 0.0                 \n",
      " ehail_fee             | null                \n",
      " improvement_surcharge | 0.3                 \n",
      " total_amount          | 5.8                 \n",
      " payment_type          | 2                   \n",
      " trip_type             | 1.0                 \n",
      " congestion_surcharge  | null                \n",
      "-RECORD 7------------------------------------\n",
      " VendorID              | 2                   \n",
      " lpep_pickup_datetime  | 2015-07-01 02:08:54 \n",
      " lpep_dropoff_datetime | 2015-07-01 02:16:45 \n",
      " store_and_fwd_flag    | N                   \n",
      " RatecodeID            | 1                   \n",
      " PULocationID          | 80                  \n",
      " DOLocationID          | 36                  \n",
      " passenger_count       | 5                   \n",
      " trip_distance         | 1.89                \n",
      " fare_amount           | 8.0                 \n",
      " extra                 | 0.5                 \n",
      " mta_tax               | 0.5                 \n",
      " tip_amount            | 1.86                \n",
      " tolls_amount          | 0.0                 \n",
      " ehail_fee             | null                \n",
      " improvement_surcharge | 0.3                 \n",
      " total_amount          | 11.16               \n",
      " payment_type          | 1                   \n",
      " trip_type             | 1.0                 \n",
      " congestion_surcharge  | null                \n",
      "-RECORD 8------------------------------------\n",
      " VendorID              | 2                   \n",
      " lpep_pickup_datetime  | 2015-07-01 02:30:34 \n",
      " lpep_dropoff_datetime | 2015-07-01 02:37:51 \n",
      " store_and_fwd_flag    | N                   \n",
      " RatecodeID            | 1                   \n",
      " PULocationID          | 255                 \n",
      " DOLocationID          | 256                 \n",
      " passenger_count       | 5                   \n",
      " trip_distance         | 1.12                \n",
      " fare_amount           | 6.5                 \n",
      " extra                 | 0.5                 \n",
      " mta_tax               | 0.5                 \n",
      " tip_amount            | 1.56                \n",
      " tolls_amount          | 0.0                 \n",
      " ehail_fee             | null                \n",
      " improvement_surcharge | 0.3                 \n",
      " total_amount          | 9.36                \n",
      " payment_type          | 1                   \n",
      " trip_type             | 1.0                 \n",
      " congestion_surcharge  | null                \n",
      "-RECORD 9------------------------------------\n",
      " VendorID              | 2                   \n",
      " lpep_pickup_datetime  | 2015-07-01 02:46:08 \n",
      " lpep_dropoff_datetime | 2015-07-01 02:54:06 \n",
      " store_and_fwd_flag    | N                   \n",
      " RatecodeID            | 1                   \n",
      " PULocationID          | 255                 \n",
      " DOLocationID          | 37                  \n",
      " passenger_count       | 5                   \n",
      " trip_distance         | 1.47                \n",
      " fare_amount           | 7.5                 \n",
      " extra                 | 0.5                 \n",
      " mta_tax               | 0.5                 \n",
      " tip_amount            | 1.0                 \n",
      " tolls_amount          | 0.0                 \n",
      " ehail_fee             | null                \n",
      " improvement_surcharge | 0.3                 \n",
      " total_amount          | 9.8                 \n",
      " payment_type          | 1                   \n",
      " trip_type             | 1.0                 \n",
      " congestion_surcharge  | null                \n",
      "-RECORD 10-----------------------------------\n",
      " VendorID              | 1                   \n",
      " lpep_pickup_datetime  | 2015-07-01 02:28:35 \n",
      " lpep_dropoff_datetime | 2015-07-01 02:44:52 \n",
      " store_and_fwd_flag    | N                   \n",
      " RatecodeID            | 1                   \n",
      " PULocationID          | 127                 \n",
      " DOLocationID          | 68                  \n",
      " passenger_count       | 2                   \n",
      " trip_distance         | 9.8                 \n",
      " fare_amount           | 27.5                \n",
      " extra                 | 0.5                 \n",
      " mta_tax               | 0.5                 \n",
      " tip_amount            | 0.0                 \n",
      " tolls_amount          | 0.0                 \n",
      " ehail_fee             | null                \n",
      " improvement_surcharge | 0.3                 \n",
      " total_amount          | 28.8                \n",
      " payment_type          | 2                   \n",
      " trip_type             | 1.0                 \n",
      " congestion_surcharge  | null                \n",
      "-RECORD 11-----------------------------------\n",
      " VendorID              | 2                   \n",
      " lpep_pickup_datetime  | 2015-07-01 02:35:45 \n",
      " lpep_dropoff_datetime | 2015-07-01 02:42:27 \n",
      " store_and_fwd_flag    | N                   \n",
      " RatecodeID            | 1                   \n",
      " PULocationID          | 95                  \n",
      " DOLocationID          | 102                 \n",
      " passenger_count       | 1                   \n",
      " trip_distance         | 1.66                \n",
      " fare_amount           | 8.0                 \n",
      " extra                 | 0.5                 \n",
      " mta_tax               | 0.5                 \n",
      " tip_amount            | 0.0                 \n",
      " tolls_amount          | 0.0                 \n",
      " ehail_fee             | null                \n",
      " improvement_surcharge | 0.3                 \n",
      " total_amount          | 9.3                 \n",
      " payment_type          | 2                   \n",
      " trip_type             | 1.0                 \n",
      " congestion_surcharge  | null                \n",
      "-RECORD 12-----------------------------------\n",
      " VendorID              | 2                   \n",
      " lpep_pickup_datetime  | 2015-07-01 02:14:40 \n",
      " lpep_dropoff_datetime | 2015-07-01 02:16:50 \n",
      " store_and_fwd_flag    | N                   \n",
      " RatecodeID            | 1                   \n",
      " PULocationID          | 181                 \n",
      " DOLocationID          | 257                 \n",
      " passenger_count       | 2                   \n",
      " trip_distance         | 0.54                \n",
      " fare_amount           | 4.0                 \n",
      " extra                 | 0.5                 \n",
      " mta_tax               | 0.5                 \n",
      " tip_amount            | 0.0                 \n",
      " tolls_amount          | 0.0                 \n",
      " ehail_fee             | null                \n",
      " improvement_surcharge | 0.3                 \n",
      " total_amount          | 5.3                 \n",
      " payment_type          | 2                   \n",
      " trip_type             | 1.0                 \n",
      " congestion_surcharge  | null                \n",
      "-RECORD 13-----------------------------------\n",
      " VendorID              | 2                   \n",
      " lpep_pickup_datetime  | 2015-07-01 02:48:07 \n",
      " lpep_dropoff_datetime | 2015-07-01 02:58:30 \n",
      " store_and_fwd_flag    | N                   \n",
      " RatecodeID            | 1                   \n",
      " PULocationID          | 25                  \n",
      " DOLocationID          | 195                 \n",
      " passenger_count       | 2                   \n",
      " trip_distance         | 2.55                \n",
      " fare_amount           | 10.0                \n",
      " extra                 | 0.5                 \n",
      " mta_tax               | 0.5                 \n",
      " tip_amount            | 0.0                 \n",
      " tolls_amount          | 0.0                 \n",
      " ehail_fee             | null                \n",
      " improvement_surcharge | 0.3                 \n",
      " total_amount          | 11.3                \n",
      " payment_type          | 2                   \n",
      " trip_type             | 1.0                 \n",
      " congestion_surcharge  | null                \n",
      "-RECORD 14-----------------------------------\n",
      " VendorID              | 2                   \n",
      " lpep_pickup_datetime  | 2015-07-01 02:22:59 \n",
      " lpep_dropoff_datetime | 2015-07-01 02:25:00 \n",
      " store_and_fwd_flag    | N                   \n",
      " RatecodeID            | 1                   \n",
      " PULocationID          | 112                 \n",
      " DOLocationID          | 112                 \n",
      " passenger_count       | 1                   \n",
      " trip_distance         | 0.64                \n",
      " fare_amount           | 4.0                 \n",
      " extra                 | 0.5                 \n",
      " mta_tax               | 0.5                 \n",
      " tip_amount            | 1.59                \n",
      " tolls_amount          | 0.0                 \n",
      " ehail_fee             | null                \n",
      " improvement_surcharge | 0.3                 \n",
      " total_amount          | 6.89                \n",
      " payment_type          | 1                   \n",
      " trip_type             | 1.0                 \n",
      " congestion_surcharge  | null                \n",
      "-RECORD 15-----------------------------------\n",
      " VendorID              | 2                   \n",
      " lpep_pickup_datetime  | 2015-07-01 02:36:27 \n",
      " lpep_dropoff_datetime | 2015-07-01 02:51:51 \n",
      " store_and_fwd_flag    | N                   \n",
      " RatecodeID            | 1                   \n",
      " PULocationID          | 255                 \n",
      " DOLocationID          | 181                 \n",
      " passenger_count       | 1                   \n",
      " trip_distance         | 6.79                \n",
      " fare_amount           | 21.0                \n",
      " extra                 | 0.5                 \n",
      " mta_tax               | 0.5                 \n",
      " tip_amount            | 4.46                \n",
      " tolls_amount          | 0.0                 \n",
      " ehail_fee             | null                \n",
      " improvement_surcharge | 0.3                 \n",
      " total_amount          | 26.76               \n",
      " payment_type          | 1                   \n",
      " trip_type             | 1.0                 \n",
      " congestion_surcharge  | null                \n",
      "-RECORD 16-----------------------------------\n",
      " VendorID              | 2                   \n",
      " lpep_pickup_datetime  | 2015-07-01 02:55:48 \n",
      " lpep_dropoff_datetime | 2015-07-01 03:11:35 \n",
      " store_and_fwd_flag    | N                   \n",
      " RatecodeID            | 1                   \n",
      " PULocationID          | 257                 \n",
      " DOLocationID          | 22                  \n",
      " passenger_count       | 1                   \n",
      " trip_distance         | 3.87                \n",
      " fare_amount           | 15.5                \n",
      " extra                 | 0.5                 \n",
      " mta_tax               | 0.5                 \n",
      " tip_amount            | 0.0                 \n",
      " tolls_amount          | 0.0                 \n",
      " ehail_fee             | null                \n",
      " improvement_surcharge | 0.3                 \n",
      " total_amount          | 16.8                \n",
      " payment_type          | 2                   \n",
      " trip_type             | 1.0                 \n",
      " congestion_surcharge  | null                \n",
      "-RECORD 17-----------------------------------\n",
      " VendorID              | 2                   \n",
      " lpep_pickup_datetime  | 2015-07-01 02:20:44 \n",
      " lpep_dropoff_datetime | 2015-07-01 02:32:15 \n",
      " store_and_fwd_flag    | N                   \n",
      " RatecodeID            | 1                   \n",
      " PULocationID          | 112                 \n",
      " DOLocationID          | 148                 \n",
      " passenger_count       | 1                   \n",
      " trip_distance         | 3.0                 \n",
      " fare_amount           | 12.0                \n",
      " extra                 | 0.5                 \n",
      " mta_tax               | 0.5                 \n",
      " tip_amount            | 0.0                 \n",
      " tolls_amount          | 0.0                 \n",
      " ehail_fee             | null                \n",
      " improvement_surcharge | 0.3                 \n",
      " total_amount          | 13.3                \n",
      " payment_type          | 2                   \n",
      " trip_type             | 1.0                 \n",
      " congestion_surcharge  | null                \n",
      "-RECORD 18-----------------------------------\n",
      " VendorID              | 1                   \n",
      " lpep_pickup_datetime  | 2015-07-01 02:31:48 \n",
      " lpep_dropoff_datetime | 2015-07-01 02:41:22 \n",
      " store_and_fwd_flag    | N                   \n",
      " RatecodeID            | 1                   \n",
      " PULocationID          | 255                 \n",
      " DOLocationID          | 37                  \n",
      " passenger_count       | 1                   \n",
      " trip_distance         | 1.9                 \n",
      " fare_amount           | 9.0                 \n",
      " extra                 | 0.5                 \n",
      " mta_tax               | 0.5                 \n",
      " tip_amount            | 2.05                \n",
      " tolls_amount          | 0.0                 \n",
      " ehail_fee             | null                \n",
      " improvement_surcharge | 0.3                 \n",
      " total_amount          | 12.35               \n",
      " payment_type          | 1                   \n",
      " trip_type             | 1.0                 \n",
      " congestion_surcharge  | null                \n",
      "-RECORD 19-----------------------------------\n",
      " VendorID              | 1                   \n",
      " lpep_pickup_datetime  | 2015-07-01 02:46:05 \n",
      " lpep_dropoff_datetime | 2015-07-01 02:56:49 \n",
      " store_and_fwd_flag    | N                   \n",
      " RatecodeID            | 1                   \n",
      " PULocationID          | 37                  \n",
      " DOLocationID          | 225                 \n",
      " passenger_count       | 1                   \n",
      " trip_distance         | 2.2                 \n",
      " fare_amount           | 10.0                \n",
      " extra                 | 0.5                 \n",
      " mta_tax               | 0.5                 \n",
      " tip_amount            | 0.0                 \n",
      " tolls_amount          | 0.0                 \n",
      " ehail_fee             | null                \n",
      " improvement_surcharge | 0.3                 \n",
      " total_amount          | 11.3                \n",
      " payment_type          | 2                   \n",
      " trip_type             | 1.0                 \n",
      " congestion_surcharge  | null                \n",
      "only showing top 20 rows\n",
      "\n"
     ]
    }
   ],
   "source": [
    "df = spark.read.parquet('green_tripdata_2015-07.parquet')\n",
    "df.show(vertical=True)"
   ]
  },
  {
   "cell_type": "code",
   "execution_count": 6,
   "id": "focused-implementation",
   "metadata": {
    "ExecuteTime": {
     "end_time": "2023-11-25T12:50:23.994640Z",
     "start_time": "2023-11-25T12:50:22.944321Z"
    }
   },
   "outputs": [],
   "source": [
    "df = df.fillna(0, subset=['ehail_fee', 'congestion_surcharge'])"
   ]
  },
  {
   "cell_type": "code",
   "execution_count": 11,
   "id": "twelve-control",
   "metadata": {
    "ExecuteTime": {
     "end_time": "2023-11-25T12:53:53.140197Z",
     "start_time": "2023-11-25T12:53:48.384406Z"
    }
   },
   "outputs": [
    {
     "name": "stdout",
     "output_type": "stream",
     "text": [
      "2\n"
     ]
    }
   ],
   "source": [
    "from pyspark.sql.functions import col\n",
    "mode_payment_type = df.groupBy('payment_type').count().orderBy(col('count').desc()).first()['payment_type']\n",
    "print(mode_payment_type)"
   ]
  },
  {
   "cell_type": "code",
   "execution_count": 12,
   "id": "executed-papua",
   "metadata": {
    "ExecuteTime": {
     "end_time": "2023-11-25T12:55:28.926342Z",
     "start_time": "2023-11-25T12:55:28.689526Z"
    }
   },
   "outputs": [],
   "source": [
    "df = df.fillna(mode_payment_type, subset=['payment_type'])"
   ]
  },
  {
   "cell_type": "code",
   "execution_count": 13,
   "id": "lucky-clarity",
   "metadata": {
    "ExecuteTime": {
     "end_time": "2023-11-25T12:56:48.699021Z",
     "start_time": "2023-11-25T12:56:48.513933Z"
    }
   },
   "outputs": [],
   "source": [
    "df = df.withColumn('distance_km', col('trip_distance') * 1.61)"
   ]
  },
  {
   "cell_type": "code",
   "execution_count": null,
   "id": "falling-interval",
   "metadata": {
    "ExecuteTime": {
     "start_time": "2023-11-25T12:58:04.971Z"
    }
   },
   "outputs": [],
   "source": [
    "df.write.parquet('green_tripdata_2015-07_cleaned.parquet')"
   ]
  }
 ],
 "metadata": {
  "kernelspec": {
   "display_name": "Python 3",
   "language": "python",
   "name": "python3"
  },
  "language_info": {
   "codemirror_mode": {
    "name": "ipython",
    "version": 3
   },
   "file_extension": ".py",
   "mimetype": "text/x-python",
   "name": "python",
   "nbconvert_exporter": "python",
   "pygments_lexer": "ipython3",
   "version": "3.8.5"
  },
  "toc": {
   "base_numbering": 1,
   "nav_menu": {},
   "number_sections": true,
   "sideBar": true,
   "skip_h1_title": false,
   "title_cell": "Table of Contents",
   "title_sidebar": "Contents",
   "toc_cell": false,
   "toc_position": {},
   "toc_section_display": true,
   "toc_window_display": false
  }
 },
 "nbformat": 4,
 "nbformat_minor": 5
}
