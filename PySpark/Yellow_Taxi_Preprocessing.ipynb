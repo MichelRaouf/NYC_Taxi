{
 "cells": [
  {
   "cell_type": "markdown",
   "id": "ec70f372",
   "metadata": {},
   "source": [
    "# Milestone 3 - Pre-processing and analysis with PySpark\n",
    "\n",
    "## Deadline - Sunday, 10th of December @11.59 pm \n",
    "\n",
    "The goal of this milestone is to preprocess the dataset 'New York yellow taxis' by performing basic data preparation and basic analysis to gain a better understanding of the data using PySpark.\n",
    "\n",
    "Use the same month and year you used for the green taxis in milestone 1. [Datasets](https://drive.google.com/drive/folders/1t8nBgbHVaA5roZY4z3RcAG1_JMYlSTqu?usp=sharing) (download the yellow taxis dataset).\n",
    "\n",
    "Important Notes:\n",
    "- You MUST use this notebook template/structure. not doing so will result in marks deduction.\n",
    "- You MUST have the cells run and output shown similar to milestone 1. I will NOT RUN YOUR NOTEBOOK.\n",
    "\n",
    "Submission guidelines: same as milestone 1.\n",
    "\n",
    "Notebook name must be same format as the file you named in miletsone 1. Just M3 instead of M1.\n",
    "\n",
    "IMPORTANT: You are only allowed to use PySpark unless explicitly told otherwise(i.e last task).\n",
    "\n",
    "Useful resource/documentation (highly recommended) - [PySpark examples](https://sparkbyexamples.com/pyspark-tutorial/)\n"
   ]
  },
  {
   "cell_type": "markdown",
   "id": "22dd9327",
   "metadata": {},
   "source": [
    "## Weight dist.\n",
    "- Loading the dataset : 5%\n",
    "- Basic cleaning: 30%\n",
    "\t- column renaming: 10%\n",
    "\t- detect missing: 35%\n",
    "\t- Handle missing: 35%\n",
    "\t- Check missing : 20%\n",
    "- Analyses: 30%\n",
    "- Encoding: 20%\n",
    "- Lookup table: 10%\n",
    "- Writing the cleaned and lookup table back as parquet and csv files: 5%."
   ]
  },
  {
   "cell_type": "markdown",
   "id": "373d9b0c",
   "metadata": {},
   "source": [
    "# Tasks:"
   ]
  },
  {
   "cell_type": "markdown",
   "id": "dd35a7dc",
   "metadata": {},
   "source": [
    "## Load the dataset."
   ]
  },
  {
   "cell_type": "code",
   "execution_count": 1,
   "id": "3efa26f4",
   "metadata": {
    "ExecuteTime": {
     "end_time": "2023-12-09T15:12:05.912622Z",
     "start_time": "2023-12-09T15:12:03.992013Z"
    }
   },
   "outputs": [],
   "source": [
    "import pandas as pd\n",
    "from pyspark.sql import SparkSession\n",
    "from pyspark.sql.types import NumericType, DateType\n",
    "from pyspark.sql.functions import when, col, unix_timestamp, dayofweek, dayofmonth, floor, count, avg, desc\n",
    "from pyspark.ml.feature import StringIndexer\n",
    "from pyspark.ml import Pipeline\n",
    "spark = SparkSession.builder.appName(\"NYC_Yellow_Taxi\").config(\"spark.executor.memory\", \"10g\").config(\"spark.driver.memory\", \"10g\").config(\"spark.driver.memoryOverhead\", \"512M\").getOrCreate()\n",
    "sc = spark.sparkContext"
   ]
  },
  {
   "cell_type": "code",
   "execution_count": 2,
   "id": "050e3822",
   "metadata": {
    "ExecuteTime": {
     "end_time": "2023-12-09T15:12:06.882227Z",
     "start_time": "2023-12-09T15:12:05.913310Z"
    }
   },
   "outputs": [],
   "source": [
    "path = './yellow_tripdata_2015-01.parquet'\n",
    "yellow_df = spark.read.parquet(path)"
   ]
  },
  {
   "cell_type": "markdown",
   "id": "f7eb86a5",
   "metadata": {},
   "source": [
    "### Preview first 20 rows."
   ]
  },
  {
   "cell_type": "code",
   "execution_count": 3,
   "id": "0fa27dab",
   "metadata": {
    "ExecuteTime": {
     "end_time": "2023-12-09T15:12:07.470289Z",
     "start_time": "2023-12-09T15:12:06.882887Z"
    }
   },
   "outputs": [
    {
     "name": "stdout",
     "output_type": "stream",
     "text": [
      "Rows count is 12741040.\n"
     ]
    }
   ],
   "source": [
    "num_of_rows = yellow_df.count()\n",
    "print(f\"Rows count is {num_of_rows}.\")"
   ]
  },
  {
   "cell_type": "code",
   "execution_count": 4,
   "id": "89b16df3",
   "metadata": {
    "ExecuteTime": {
     "end_time": "2023-12-09T15:12:07.832020Z",
     "start_time": "2023-12-09T15:12:07.470887Z"
    }
   },
   "outputs": [
    {
     "name": "stdout",
     "output_type": "stream",
     "text": [
      "-RECORD 0-------------------------------------\n",
      " Vendor                | Creative Mobile T... \n",
      " tpep_pickup_datetime  | 2015-01-01 01:11:33  \n",
      " tpep_dropoff_datetime | 2015-01-01 01:16:48  \n",
      " passenger_count       | 1.0                  \n",
      " trip_distance         | 1.0                  \n",
      " Rate_type             | Standard rate        \n",
      " store_and_fwd_flag    | N                    \n",
      " PU_Location           | Manhattan,Central... \n",
      " DO_Location           | Manhattan,Morning... \n",
      " payment_type          | Credit card          \n",
      " fare_amount           | 5.7                  \n",
      " extra                 | 0.5                  \n",
      " mta_tax               | 0.5                  \n",
      " tip_amount            | 1.4                  \n",
      " tolls_amount          | 0.0                  \n",
      " improvement_surcharge | 0.0                  \n",
      " total_amount          | 8.4                  \n",
      " congestion_surcharge  | null                 \n",
      " airport_fee           | null                 \n",
      "-RECORD 1-------------------------------------\n",
      " Vendor                | Creative Mobile T... \n",
      " tpep_pickup_datetime  | 2015-01-01 01:18:24  \n",
      " tpep_dropoff_datetime | 2015-01-01 01:24:20  \n",
      " passenger_count       | 1.0                  \n",
      " trip_distance         | 0.9                  \n",
      " Rate_type             | Standard rate        \n",
      " store_and_fwd_flag    | N                    \n",
      " PU_Location           | Manhattan,Morning... \n",
      " DO_Location           | Manhattan,Upper W... \n",
      " payment_type          | null                 \n",
      " fare_amount           | 6.0                  \n",
      " extra                 | 0.5                  \n",
      " mta_tax               | 0.5                  \n",
      " tip_amount            | 0.0                  \n",
      " tolls_amount          | 0.0                  \n",
      " improvement_surcharge | 0.0                  \n",
      " total_amount          | 7.3                  \n",
      " congestion_surcharge  | null                 \n",
      " airport_fee           | null                 \n",
      "-RECORD 2-------------------------------------\n",
      " Vendor                | Creative Mobile T... \n",
      " tpep_pickup_datetime  | 2015-01-01 01:26:19  \n",
      " tpep_dropoff_datetime | 2015-01-01 01:41:06  \n",
      " passenger_count       | 1.0                  \n",
      " trip_distance         | 3.5                  \n",
      " Rate_type             | Standard rate        \n",
      " store_and_fwd_flag    | N                    \n",
      " PU_Location           | Manhattan,Upper W... \n",
      " DO_Location           | Manhattan,Midtown... \n",
      " payment_type          | null                 \n",
      " fare_amount           | 13.2                 \n",
      " extra                 | 0.5                  \n",
      " mta_tax               | 0.5                  \n",
      " tip_amount            | 2.9                  \n",
      " tolls_amount          | 0.0                  \n",
      " improvement_surcharge | 0.0                  \n",
      " total_amount          | 17.4                 \n",
      " congestion_surcharge  | null                 \n",
      " airport_fee           | null                 \n",
      "-RECORD 3-------------------------------------\n",
      " Vendor                | Creative Mobile T... \n",
      " tpep_pickup_datetime  | 2015-01-01 01:45:26  \n",
      " tpep_dropoff_datetime | 2015-01-01 01:53:20  \n",
      " passenger_count       | 1.0                  \n",
      " trip_distance         | 2.1                  \n",
      " Rate_type             | Standard rate        \n",
      " store_and_fwd_flag    | N                    \n",
      " PU_Location           | Manhattan,Midtown... \n",
      " DO_Location           | Manhattan,Yorkvil... \n",
      " payment_type          | Credit card          \n",
      " fare_amount           | 8.2                  \n",
      " extra                 | 0.5                  \n",
      " mta_tax               | 0.5                  \n",
      " tip_amount            | 2.37                 \n",
      " tolls_amount          | 0.0                  \n",
      " improvement_surcharge | 0.0                  \n",
      " total_amount          | 11.87                \n",
      " congestion_surcharge  | null                 \n",
      " airport_fee           | null                 \n",
      "-RECORD 4-------------------------------------\n",
      " Vendor                | Creative Mobile T... \n",
      " tpep_pickup_datetime  | 2015-01-01 01:59:21  \n",
      " tpep_dropoff_datetime | 2015-01-01 02:05:24  \n",
      " passenger_count       | 1.0                  \n",
      " trip_distance         | 1.0                  \n",
      " Rate_type             | Standard rate        \n",
      " store_and_fwd_flag    | N                    \n",
      " PU_Location           | Manhattan,Upper E... \n",
      " DO_Location           | Manhattan,Lenox H... \n",
      " payment_type          | No charge            \n",
      " fare_amount           | 6.0                  \n",
      " extra                 | 0.5                  \n",
      " mta_tax               | 0.5                  \n",
      " tip_amount            | 0.0                  \n",
      " tolls_amount          | 0.0                  \n",
      " improvement_surcharge | 0.0                  \n",
      " total_amount          | 7.3                  \n",
      " congestion_surcharge  | null                 \n",
      " airport_fee           | null                 \n",
      "-RECORD 5-------------------------------------\n",
      " Vendor                | Creative Mobile T... \n",
      " tpep_pickup_datetime  | 2015-01-01 01:07:31  \n",
      " tpep_dropoff_datetime | 2015-01-01 01:11:32  \n",
      " passenger_count       | 1.0                  \n",
      " trip_distance         | 0.8                  \n",
      " Rate_type             | Standard rate        \n",
      " store_and_fwd_flag    | N                    \n",
      " PU_Location           | Manhattan,Upper W... \n",
      " DO_Location           | Manhattan,Upper W... \n",
      " payment_type          | Cash                 \n",
      " fare_amount           | 5.0                  \n",
      " extra                 | 0.5                  \n",
      " mta_tax               | 0.5                  \n",
      " tip_amount            | 0.0                  \n",
      " tolls_amount          | 0.0                  \n",
      " improvement_surcharge | 0.0                  \n",
      " total_amount          | 6.3                  \n",
      " congestion_surcharge  | null                 \n",
      " airport_fee           | null                 \n",
      "-RECORD 6-------------------------------------\n",
      " Vendor                | Creative Mobile T... \n",
      " tpep_pickup_datetime  | 2015-01-01 01:47:08  \n",
      " tpep_dropoff_datetime | 2015-01-01 01:54:50  \n",
      " passenger_count       | 1.0                  \n",
      " trip_distance         | 1.1                  \n",
      " Rate_type             | Standard rate        \n",
      " store_and_fwd_flag    | N                    \n",
      " PU_Location           | Manhattan,Upper W... \n",
      " DO_Location           | Manhattan,Upper W... \n",
      " payment_type          | Cash                 \n",
      " fare_amount           | 7.0                  \n",
      " extra                 | 0.5                  \n",
      " mta_tax               | 0.5                  \n",
      " tip_amount            | 0.0                  \n",
      " tolls_amount          | 0.0                  \n",
      " improvement_surcharge | 0.0                  \n",
      " total_amount          | 8.3                  \n",
      " congestion_surcharge  | null                 \n",
      " airport_fee           | null                 \n",
      "-RECORD 7-------------------------------------\n",
      " Vendor                | Creative Mobile T... \n",
      " tpep_pickup_datetime  | 2015-01-01 01:58:04  \n",
      " tpep_dropoff_datetime | 2015-01-01 02:11:56  \n",
      " passenger_count       | 1.0                  \n",
      " trip_distance         | 2.9                  \n",
      " Rate_type             | Standard rate        \n",
      " store_and_fwd_flag    | N                    \n",
      " PU_Location           | Manhattan,Upper W... \n",
      " DO_Location           | Manhattan,Central... \n",
      " payment_type          | null                 \n",
      " fare_amount           | 12.2                 \n",
      " extra                 | 0.5                  \n",
      " mta_tax               | 0.5                  \n",
      " tip_amount            | 2.7                  \n",
      " tolls_amount          | 0.0                  \n",
      " improvement_surcharge | 0.0                  \n",
      " total_amount          | 16.2                 \n",
      " congestion_surcharge  | null                 \n",
      " airport_fee           | null                 \n",
      "-RECORD 8-------------------------------------\n",
      " Vendor                | Creative Mobile T... \n",
      " tpep_pickup_datetime  | 2015-01-01 01:29:25  \n",
      " tpep_dropoff_datetime | 2015-01-01 01:37:25  \n",
      " passenger_count       | 2.0                  \n",
      " trip_distance         | 1.3                  \n",
      " Rate_type             | Standard rate        \n",
      " store_and_fwd_flag    | N                    \n",
      " PU_Location           | Manhattan,Flatiron   \n",
      " DO_Location           | Manhattan,Hudson Sq  \n",
      " payment_type          | Cash                 \n",
      " fare_amount           | 7.0                  \n",
      " extra                 | 0.5                  \n",
      " mta_tax               | 0.5                  \n",
      " tip_amount            | 0.0                  \n",
      " tolls_amount          | 0.0                  \n",
      " improvement_surcharge | 0.0                  \n",
      " total_amount          | 8.3                  \n",
      " congestion_surcharge  | null                 \n",
      " airport_fee           | null                 \n",
      "-RECORD 9-------------------------------------\n",
      " Vendor                | Creative Mobile T... \n",
      " tpep_pickup_datetime  | 2015-01-01 01:39:02  \n",
      " tpep_dropoff_datetime | 2015-01-01 02:02:37  \n",
      " passenger_count       | 2.0                  \n",
      " trip_distance         | 4.3                  \n",
      " Rate_type             | Standard rate        \n",
      " store_and_fwd_flag    | N                    \n",
      " PU_Location           | Manhattan,Hudson Sq  \n",
      " DO_Location           | Manhattan,Lenox H... \n",
      " payment_type          | Cash                 \n",
      " fare_amount           | 18.0                 \n",
      " extra                 | 0.5                  \n",
      " mta_tax               | 0.5                  \n",
      " tip_amount            | 0.0                  \n",
      " tolls_amount          | 0.0                  \n",
      " improvement_surcharge | 0.0                  \n",
      " total_amount          | 19.3                 \n",
      " congestion_surcharge  | null                 \n",
      " airport_fee           | null                 \n",
      "-RECORD 10------------------------------------\n",
      " Vendor                | Creative Mobile T... \n",
      " tpep_pickup_datetime  | 2015-01-01 01:06:44  \n",
      " tpep_dropoff_datetime | 2015-01-01 01:12:37  \n",
      " passenger_count       | 2.0                  \n",
      " trip_distance         | 0.8                  \n",
      " Rate_type             | Standard rate        \n",
      " store_and_fwd_flag    | N                    \n",
      " PU_Location           | Manhattan,West Ch... \n",
      " DO_Location           | Manhattan,Clinton... \n",
      " payment_type          | Cash                 \n",
      " fare_amount           | 5.5                  \n",
      " extra                 | 0.5                  \n",
      " mta_tax               | 0.5                  \n",
      " tip_amount            | 0.0                  \n",
      " tolls_amount          | 0.0                  \n",
      " improvement_surcharge | 0.0                  \n",
      " total_amount          | 6.8                  \n",
      " congestion_surcharge  | null                 \n",
      " airport_fee           | null                 \n",
      "-RECORD 11------------------------------------\n",
      " Vendor                | Creative Mobile T... \n",
      " tpep_pickup_datetime  | 2015-01-01 01:47:48  \n",
      " tpep_dropoff_datetime | 2015-01-01 02:03:18  \n",
      " passenger_count       | 1.0                  \n",
      " trip_distance         | 2.7                  \n",
      " Rate_type             | Standard rate        \n",
      " store_and_fwd_flag    | N                    \n",
      " PU_Location           | Manhattan,West Ch... \n",
      " DO_Location           | Manhattan,East Vi... \n",
      " payment_type          | Credit card          \n",
      " fare_amount           | 11.7                 \n",
      " extra                 | 0.5                  \n",
      " mta_tax               | 0.5                  \n",
      " tip_amount            | 1.8                  \n",
      " tolls_amount          | 0.0                  \n",
      " improvement_surcharge | 0.0                  \n",
      " total_amount          | 14.8                 \n",
      " congestion_surcharge  | null                 \n",
      " airport_fee           | null                 \n",
      "-RECORD 12------------------------------------\n",
      " Vendor                | Creative Mobile T... \n",
      " tpep_pickup_datetime  | 2015-01-01 01:29:23  \n",
      " tpep_dropoff_datetime | 2015-01-01 01:38:26  \n",
      " passenger_count       | 1.0                  \n",
      " trip_distance         | 2.6                  \n",
      " Rate_type             | Standard rate        \n",
      " store_and_fwd_flag    | N                    \n",
      " PU_Location           | Unknown,NV           \n",
      " DO_Location           | Manhattan,Yorkvil... \n",
      " payment_type          | Cash                 \n",
      " fare_amount           | 10.0                 \n",
      " extra                 | 0.5                  \n",
      " mta_tax               | 0.5                  \n",
      " tip_amount            | 0.0                  \n",
      " tolls_amount          | 0.0                  \n",
      " improvement_surcharge | 0.0                  \n",
      " total_amount          | 11.3                 \n",
      " congestion_surcharge  | null                 \n",
      " airport_fee           | null                 \n",
      "-RECORD 13------------------------------------\n",
      " Vendor                | Creative Mobile T... \n",
      " tpep_pickup_datetime  | 2015-01-01 01:39:52  \n",
      " tpep_dropoff_datetime | 2015-01-01 01:42:49  \n",
      " passenger_count       | 1.0                  \n",
      " trip_distance         | 0.5                  \n",
      " Rate_type             | Standard rate        \n",
      " store_and_fwd_flag    | N                    \n",
      " PU_Location           | Manhattan,Yorkvil... \n",
      " DO_Location           | Manhattan,Lenox H... \n",
      " payment_type          | null                 \n",
      " fare_amount           | 4.0                  \n",
      " extra                 | 0.5                  \n",
      " mta_tax               | 0.5                  \n",
      " tip_amount            | 1.05                 \n",
      " tolls_amount          | 0.0                  \n",
      " improvement_surcharge | 0.0                  \n",
      " total_amount          | 6.35                 \n",
      " congestion_surcharge  | null                 \n",
      " airport_fee           | null                 \n",
      "-RECORD 14------------------------------------\n",
      " Vendor                | Creative Mobile T... \n",
      " tpep_pickup_datetime  | 2015-01-01 01:57:41  \n",
      " tpep_dropoff_datetime | 2015-01-01 02:10:45  \n",
      " passenger_count       | 1.0                  \n",
      " trip_distance         | 0.4                  \n",
      " Rate_type             | Standard rate        \n",
      " store_and_fwd_flag    | N                    \n",
      " PU_Location           | Manhattan,Midtown... \n",
      " DO_Location           | Manhattan,Midtown... \n",
      " payment_type          | null                 \n",
      " fare_amount           | 9.0                  \n",
      " extra                 | 0.5                  \n",
      " mta_tax               | 0.5                  \n",
      " tip_amount            | 0.0                  \n",
      " tolls_amount          | 0.0                  \n",
      " improvement_surcharge | 0.0                  \n",
      " total_amount          | 10.3                 \n",
      " congestion_surcharge  | null                 \n",
      " airport_fee           | null                 \n",
      "-RECORD 15------------------------------------\n",
      " Vendor                | Creative Mobile T... \n",
      " tpep_pickup_datetime  | 2015-01-01 01:02:53  \n",
      " tpep_dropoff_datetime | 2015-01-01 01:16:28  \n",
      " passenger_count       | 1.0                  \n",
      " trip_distance         | 5.4                  \n",
      " Rate_type             | Standard rate        \n",
      " store_and_fwd_flag    | N                    \n",
      " PU_Location           | Manhattan,Midtown... \n",
      " DO_Location           | Manhattan,Financi... \n",
      " payment_type          | null                 \n",
      " fare_amount           | 17.7                 \n",
      " extra                 | 0.5                  \n",
      " mta_tax               | 0.5                  \n",
      " tip_amount            | 0.0                  \n",
      " tolls_amount          | 0.0                  \n",
      " improvement_surcharge | 0.0                  \n",
      " total_amount          | 19.0                 \n",
      " congestion_surcharge  | null                 \n",
      " airport_fee           | null                 \n",
      "-RECORD 16------------------------------------\n",
      " Vendor                | Creative Mobile T... \n",
      " tpep_pickup_datetime  | 2015-01-01 01:18:38  \n",
      " tpep_dropoff_datetime | 2015-01-01 01:34:33  \n",
      " passenger_count       | 1.0                  \n",
      " trip_distance         | 3.4                  \n",
      " Rate_type             | Standard rate        \n",
      " store_and_fwd_flag    | N                    \n",
      " PU_Location           | Manhattan,Financi... \n",
      " DO_Location           | Manhattan,Meatpac... \n",
      " payment_type          | null                 \n",
      " fare_amount           | 13.2                 \n",
      " extra                 | 0.5                  \n",
      " mta_tax               | 0.5                  \n",
      " tip_amount            | 2.9                  \n",
      " tolls_amount          | 0.0                  \n",
      " improvement_surcharge | 0.0                  \n",
      " total_amount          | 17.4                 \n",
      " congestion_surcharge  | null                 \n",
      " airport_fee           | null                 \n",
      "-RECORD 17------------------------------------\n",
      " Vendor                | Creative Mobile T... \n",
      " tpep_pickup_datetime  | 2015-01-01 01:35:34  \n",
      " tpep_dropoff_datetime | 2015-01-01 01:58:57  \n",
      " passenger_count       | 1.0                  \n",
      " trip_distance         | 4.4                  \n",
      " Rate_type             | Standard rate        \n",
      " store_and_fwd_flag    | N                    \n",
      " PU_Location           | Manhattan,Meatpac... \n",
      " DO_Location           | Queens,Long Islan... \n",
      " payment_type          | Credit card          \n",
      " fare_amount           | 18.2                 \n",
      " extra                 | 0.5                  \n",
      " mta_tax               | 0.5                  \n",
      " tip_amount            | 3.0                  \n",
      " tolls_amount          | 5.33                 \n",
      " improvement_surcharge | 0.0                  \n",
      " total_amount          | 27.83                \n",
      " congestion_surcharge  | null                 \n",
      " airport_fee           | null                 \n",
      "-RECORD 18------------------------------------\n",
      " Vendor                | VeriFone Inc.        \n",
      " tpep_pickup_datetime  | 2015-01-01 01:16:45  \n",
      " tpep_dropoff_datetime | 2015-01-01 01:22:53  \n",
      " passenger_count       | 1.0                  \n",
      " trip_distance         | 1.18                 \n",
      " Rate_type             | Standard rate        \n",
      " store_and_fwd_flag    | N                    \n",
      " PU_Location           | Manhattan,Manhatt... \n",
      " DO_Location           | Manhattan,Upper W... \n",
      " payment_type          | Cash                 \n",
      " fare_amount           | 6.5                  \n",
      " extra                 | 0.5                  \n",
      " mta_tax               | 0.5                  \n",
      " tip_amount            | 0.0                  \n",
      " tolls_amount          | 0.0                  \n",
      " improvement_surcharge | 0.3                  \n",
      " total_amount          | 7.8                  \n",
      " congestion_surcharge  | null                 \n",
      " airport_fee           | null                 \n",
      "-RECORD 19------------------------------------\n",
      " Vendor                | VeriFone Inc.        \n",
      " tpep_pickup_datetime  | 2015-01-01 01:35:52  \n",
      " tpep_dropoff_datetime | 2015-01-01 01:55:51  \n",
      " passenger_count       | 1.0                  \n",
      " trip_distance         | 2.29                 \n",
      " Rate_type             | Standard rate        \n",
      " store_and_fwd_flag    | N                    \n",
      " PU_Location           | Manhattan,Lincoln... \n",
      " DO_Location           | Manhattan,Midtown... \n",
      " payment_type          | Cash                 \n",
      " fare_amount           | 13.5                 \n",
      " extra                 | 0.5                  \n",
      " mta_tax               | 0.5                  \n",
      " tip_amount            | 0.0                  \n",
      " tolls_amount          | 0.0                  \n",
      " improvement_surcharge | 0.3                  \n",
      " total_amount          | 14.8                 \n",
      " congestion_surcharge  | null                 \n",
      " airport_fee           | null                 \n",
      "only showing top 20 rows\n",
      "\n"
     ]
    }
   ],
   "source": [
    "yellow_df.show(20, vertical=True)"
   ]
  },
  {
   "cell_type": "markdown",
   "id": "361aa495",
   "metadata": {},
   "source": [
    "### How many partitions is this dataframe split into?"
   ]
  },
  {
   "cell_type": "code",
   "execution_count": 5,
   "id": "c0151823",
   "metadata": {
    "ExecuteTime": {
     "end_time": "2023-12-09T15:12:07.862930Z",
     "start_time": "2023-12-09T15:12:07.833198Z"
    }
   },
   "outputs": [],
   "source": [
    "num_of_partitions = yellow_df.rdd.getNumPartitions()"
   ]
  },
  {
   "cell_type": "code",
   "execution_count": 6,
   "id": "54ca4e09",
   "metadata": {
    "ExecuteTime": {
     "end_time": "2023-12-09T15:12:07.864781Z",
     "start_time": "2023-12-09T15:12:07.863469Z"
    }
   },
   "outputs": [
    {
     "name": "stdout",
     "output_type": "stream",
     "text": [
      "The DataFrame is split into 24 partitions.\n"
     ]
    }
   ],
   "source": [
    "print(f\"The DataFrame is split into {num_of_partitions} partitions.\")"
   ]
  },
  {
   "cell_type": "markdown",
   "id": "7cd45fad",
   "metadata": {},
   "source": [
    "## Basic cleaning"
   ]
  },
  {
   "cell_type": "markdown",
   "id": "4e30192c",
   "metadata": {},
   "source": [
    "### rename all columns (replacing a space with an underscore, and making it lowercase)"
   ]
  },
  {
   "cell_type": "code",
   "execution_count": 7,
   "id": "1a36b9c8",
   "metadata": {
    "ExecuteTime": {
     "end_time": "2023-12-09T15:12:07.927807Z",
     "start_time": "2023-12-09T15:12:07.865534Z"
    }
   },
   "outputs": [],
   "source": [
    "for column in yellow_df.columns:\n",
    "    yellow_df = yellow_df.withColumnRenamed(column, column.replace(' ', '_').lower())"
   ]
  },
  {
   "cell_type": "code",
   "execution_count": 8,
   "id": "divine-local",
   "metadata": {
    "ExecuteTime": {
     "end_time": "2023-12-09T15:12:07.933176Z",
     "start_time": "2023-12-09T15:12:07.929109Z"
    }
   },
   "outputs": [
    {
     "data": {
      "text/plain": [
       "['vendor',\n",
       " 'tpep_pickup_datetime',\n",
       " 'tpep_dropoff_datetime',\n",
       " 'passenger_count',\n",
       " 'trip_distance',\n",
       " 'rate_type',\n",
       " 'store_and_fwd_flag',\n",
       " 'pu_location',\n",
       " 'do_location',\n",
       " 'payment_type',\n",
       " 'fare_amount',\n",
       " 'extra',\n",
       " 'mta_tax',\n",
       " 'tip_amount',\n",
       " 'tolls_amount',\n",
       " 'improvement_surcharge',\n",
       " 'total_amount',\n",
       " 'congestion_surcharge',\n",
       " 'airport_fee']"
      ]
     },
     "execution_count": 8,
     "metadata": {},
     "output_type": "execute_result"
    }
   ],
   "source": [
    "yellow_df.columns"
   ]
  },
  {
   "cell_type": "markdown",
   "id": "8b3afbda",
   "metadata": {},
   "source": [
    "### Detect and remove duplicates\n",
    "- Duplicates are trips with same pickup time,pickup location, dropoff time,drop off location and trip distance"
   ]
  },
  {
   "cell_type": "code",
   "execution_count": 9,
   "id": "19a08746",
   "metadata": {
    "ExecuteTime": {
     "end_time": "2023-12-09T15:12:11.347354Z",
     "start_time": "2023-12-09T15:12:07.934046Z"
    }
   },
   "outputs": [
    {
     "name": "stdout",
     "output_type": "stream",
     "text": [
      "Number of duplicate rows: 4071\n"
     ]
    }
   ],
   "source": [
    "columns_to_check_duplicates = [\"tpep_pickup_datetime\", \"pu_location\", \"tpep_dropoff_datetime\", \"do_location\", \"trip_distance\"]\n",
    "num_of_duplicates = yellow_df.groupBy(columns_to_check_duplicates).count().filter(\"count > 1\").count()\n",
    "print(f\"Number of duplicate rows: {num_of_duplicates}\")"
   ]
  },
  {
   "cell_type": "code",
   "execution_count": 10,
   "id": "e79a41cc",
   "metadata": {
    "ExecuteTime": {
     "end_time": "2023-12-09T15:12:11.352490Z",
     "start_time": "2023-12-09T15:12:11.347928Z"
    }
   },
   "outputs": [],
   "source": [
    "yellow_df_drop_duplicates = yellow_df.dropDuplicates(subset=columns_to_check_duplicates)"
   ]
  },
  {
   "cell_type": "markdown",
   "id": "fe15c117",
   "metadata": {},
   "source": [
    "### check that there is are no duplicates"
   ]
  },
  {
   "cell_type": "code",
   "execution_count": 11,
   "id": "c169dd4d",
   "metadata": {
    "ExecuteTime": {
     "end_time": "2023-12-09T15:12:14.171934Z",
     "start_time": "2023-12-09T15:12:11.353074Z"
    }
   },
   "outputs": [
    {
     "name": "stdout",
     "output_type": "stream",
     "text": [
      "Number of duplicate rows: 0\n"
     ]
    }
   ],
   "source": [
    "num_of_duplicates = yellow_df_drop_duplicates.groupBy(columns_to_check_duplicates).count().filter(\"count > 1\").count()\n",
    "print(f\"Number of duplicate rows: {num_of_duplicates}\")"
   ]
  },
  {
   "cell_type": "code",
   "execution_count": 12,
   "id": "86ac19c1",
   "metadata": {
    "ExecuteTime": {
     "end_time": "2023-12-09T15:12:16.093509Z",
     "start_time": "2023-12-09T15:12:14.172785Z"
    }
   },
   "outputs": [
    {
     "name": "stdout",
     "output_type": "stream",
     "text": [
      "Rows count is 12736758.\n"
     ]
    }
   ],
   "source": [
    "num_of_rows = yellow_df_drop_duplicates.count()\n",
    "print(f\"Rows count is {num_of_rows}.\")"
   ]
  },
  {
   "cell_type": "markdown",
   "id": "76a487be",
   "metadata": {},
   "source": [
    "### Detect missing\n",
    "- Create a function that takes in the df and returns any data structrue of your choice(df/dict,list,tuple,etc) which has the name of the column and percentage of missing entries from the whole dataset.\n",
    "- Tip : storing the missing info as dict where the key is the column name and value is the percentage would be the easiest.  "
   ]
  },
  {
   "cell_type": "code",
   "execution_count": 13,
   "id": "9a2291b5",
   "metadata": {
    "ExecuteTime": {
     "end_time": "2023-12-09T15:12:16.095472Z",
     "start_time": "2023-12-09T15:12:16.094049Z"
    }
   },
   "outputs": [],
   "source": [
    "def detect_missing(df):\n",
    "    total_rows = df.count()\n",
    "    missing_info = {}\n",
    "    for column in df.columns:\n",
    "        missing_count = df.filter(df[column].isNull()).count()\n",
    "        percentage_missing = (missing_count / total_rows) * 100\n",
    "        missing_info[column] = percentage_missing\n",
    "    return missing_info"
   ]
  },
  {
   "cell_type": "markdown",
   "id": "0e459348",
   "metadata": {},
   "source": [
    "### Prinout the missing info"
   ]
  },
  {
   "cell_type": "code",
   "execution_count": 14,
   "id": "41010a35",
   "metadata": {
    "ExecuteTime": {
     "end_time": "2023-12-09T15:13:14.599751Z",
     "start_time": "2023-12-09T15:12:16.095892Z"
    }
   },
   "outputs": [],
   "source": [
    "missing_info_dict = detect_missing(yellow_df_drop_duplicates)"
   ]
  },
  {
   "cell_type": "code",
   "execution_count": 15,
   "id": "c8e4b3e8",
   "metadata": {
    "ExecuteTime": {
     "end_time": "2023-12-09T15:13:14.603319Z",
     "start_time": "2023-12-09T15:13:14.600769Z"
    }
   },
   "outputs": [
    {
     "name": "stdout",
     "output_type": "stream",
     "text": [
      "Missing information:\n",
      "vendor: 0.00%\n",
      "tpep_pickup_datetime: 0.00%\n",
      "tpep_dropoff_datetime: 0.00%\n",
      "passenger_count: 0.05%\n",
      "trip_distance: 0.00%\n",
      "rate_type: 0.00%\n",
      "store_and_fwd_flag: 0.00%\n",
      "pu_location: 0.00%\n",
      "do_location: 0.00%\n",
      "payment_type: 9.05%\n",
      "fare_amount: 0.00%\n",
      "extra: 52.62%\n",
      "mta_tax: 0.00%\n",
      "tip_amount: 0.00%\n",
      "tolls_amount: 0.00%\n",
      "improvement_surcharge: 0.00%\n",
      "total_amount: 0.00%\n",
      "congestion_surcharge: 100.00%\n",
      "airport_fee: 100.00%\n"
     ]
    }
   ],
   "source": [
    "print(\"Missing information:\")\n",
    "for column, percentage_missing in missing_info_dict.items():\n",
    "    print(f\"{column}: {percentage_missing:.2f}%\")"
   ]
  },
  {
   "cell_type": "markdown",
   "id": "ead65669",
   "metadata": {},
   "source": [
    "### Handle missing\n",
    "- For numerical features replace with 0.\n",
    "- For categorical/strings replace with 'Unknown'\n"
   ]
  },
  {
   "cell_type": "code",
   "execution_count": 16,
   "id": "3d78a72f",
   "metadata": {
    "ExecuteTime": {
     "end_time": "2023-12-09T15:13:14.613327Z",
     "start_time": "2023-12-09T15:13:14.604209Z"
    }
   },
   "outputs": [],
   "source": [
    "def handle_missing(df):\n",
    "    for col_name in df.columns:\n",
    "        col_type = df.schema[col_name].dataType\n",
    "        if isinstance(col_type, NumericType):\n",
    "            df = df.withColumn(col_name, when(col(col_name).isNull(), 0).otherwise(col(col_name)))\n",
    "        else:\n",
    "            df = df.withColumn(col_name, when(col(col_name).isNull(), 'Unknown').otherwise(col(col_name)))\n",
    "    return df"
   ]
  },
  {
   "cell_type": "code",
   "execution_count": 17,
   "id": "85e3a9c9",
   "metadata": {
    "ExecuteTime": {
     "end_time": "2023-12-09T15:13:15.008946Z",
     "start_time": "2023-12-09T15:13:14.614282Z"
    }
   },
   "outputs": [],
   "source": [
    "yellow_df_handled_missing = handle_missing(yellow_df_drop_duplicates)"
   ]
  },
  {
   "cell_type": "markdown",
   "id": "aa139136",
   "metadata": {},
   "source": [
    "### check that there are no missing values"
   ]
  },
  {
   "cell_type": "code",
   "execution_count": 18,
   "id": "17333948",
   "metadata": {
    "ExecuteTime": {
     "end_time": "2023-12-09T15:14:18.722547Z",
     "start_time": "2023-12-09T15:13:15.010237Z"
    }
   },
   "outputs": [],
   "source": [
    "missing_info_dict = detect_missing(yellow_df_handled_missing)"
   ]
  },
  {
   "cell_type": "code",
   "execution_count": 19,
   "id": "8f2a0861",
   "metadata": {
    "ExecuteTime": {
     "end_time": "2023-12-09T15:14:18.726067Z",
     "start_time": "2023-12-09T15:14:18.723120Z"
    }
   },
   "outputs": [
    {
     "name": "stdout",
     "output_type": "stream",
     "text": [
      "Missing information:\n",
      "vendor: 0.00%\n",
      "tpep_pickup_datetime: 0.00%\n",
      "tpep_dropoff_datetime: 0.00%\n",
      "passenger_count: 0.00%\n",
      "trip_distance: 0.00%\n",
      "rate_type: 0.00%\n",
      "store_and_fwd_flag: 0.00%\n",
      "pu_location: 0.00%\n",
      "do_location: 0.00%\n",
      "payment_type: 0.00%\n",
      "fare_amount: 0.00%\n",
      "extra: 0.00%\n",
      "mta_tax: 0.00%\n",
      "tip_amount: 0.00%\n",
      "tolls_amount: 0.00%\n",
      "improvement_surcharge: 0.00%\n",
      "total_amount: 0.00%\n",
      "congestion_surcharge: 0.00%\n",
      "airport_fee: 0.00%\n"
     ]
    }
   ],
   "source": [
    "print(\"Missing information:\")\n",
    "for column, percentage_missing in missing_info_dict.items():\n",
    "    print(f\"{column}: {percentage_missing:.2f}%\")"
   ]
  },
  {
   "cell_type": "markdown",
   "id": "36ac1d9f",
   "metadata": {},
   "source": [
    "## Feature engineering - \n",
    "Write a function that adds the 3 following features. Use built in fucntions in PySpark (from the functions library) check lab 8, Avoid writing UDFs from scratch.\n",
    "- trip duration (the format/unit is up to you)\n",
    "- is_weekend. whether the trip occurred on Saturday or Sunday.\n",
    "- week number (relevant to the month and not year, i.e 1,2,3,4 nto 31,32,33...) "
   ]
  },
  {
   "cell_type": "code",
   "execution_count": 20,
   "id": "3d3fcc55",
   "metadata": {
    "ExecuteTime": {
     "end_time": "2023-12-09T15:14:18.729460Z",
     "start_time": "2023-12-09T15:14:18.726535Z"
    }
   },
   "outputs": [],
   "source": [
    "def add_trip_duration(df):\n",
    "    df = df.withColumn(\"trip_duration_minutes\", (unix_timestamp(\"tpep_dropoff_datetime\") - unix_timestamp(\"tpep_pickup_datetime\")) / 60.0)\n",
    "    return df"
   ]
  },
  {
   "cell_type": "code",
   "execution_count": 21,
   "id": "783d9bcb",
   "metadata": {
    "ExecuteTime": {
     "end_time": "2023-12-09T15:14:18.732586Z",
     "start_time": "2023-12-09T15:14:18.730037Z"
    }
   },
   "outputs": [],
   "source": [
    "def add_is_weekend(df):\n",
    "    df = df.withColumn(\"is_weekend\", when((dayofweek(\"tpep_pickup_datetime\") == 1) | (dayofweek(\"tpep_pickup_datetime\") == 7), 1).otherwise(0))\n",
    "    return df"
   ]
  },
  {
   "cell_type": "code",
   "execution_count": 22,
   "id": "b5a59334",
   "metadata": {
    "ExecuteTime": {
     "end_time": "2023-12-09T15:14:18.737877Z",
     "start_time": "2023-12-09T15:14:18.733116Z"
    }
   },
   "outputs": [],
   "source": [
    "def add_week_number(df):\n",
    "    df = df.withColumn(\"day_of_month\", dayofmonth(\"tpep_pickup_datetime\"))\n",
    "    df = df.withColumn(\"week_number\", floor((col(\"day_of_month\") - 1) / 7) + 1).drop(\"day_of_month\")\n",
    "    return df"
   ]
  },
  {
   "cell_type": "code",
   "execution_count": 23,
   "id": "dependent-light",
   "metadata": {
    "ExecuteTime": {
     "end_time": "2023-12-09T15:14:18.824847Z",
     "start_time": "2023-12-09T15:14:18.739365Z"
    }
   },
   "outputs": [],
   "source": [
    "yellow_df_trip_duration = add_trip_duration(yellow_df_handled_missing)\n",
    "yellow_df_is_weekend = add_is_weekend(yellow_df_trip_duration)\n",
    "yellow_df_week_number = add_week_number(yellow_df_is_weekend)"
   ]
  },
  {
   "cell_type": "markdown",
   "id": "8a927246",
   "metadata": {},
   "source": [
    "### Preview the first 20 rows (only select the following features: pickup and droptime, and the 3 features you added). "
   ]
  },
  {
   "cell_type": "code",
   "execution_count": 24,
   "id": "5e9aae0a",
   "metadata": {
    "ExecuteTime": {
     "end_time": "2023-12-09T15:14:18.827665Z",
     "start_time": "2023-12-09T15:14:18.826006Z"
    }
   },
   "outputs": [],
   "source": [
    "selected_features = [\"tpep_pickup_datetime\", \"tpep_dropoff_datetime\", \"trip_duration_minutes\", \"is_weekend\", \"week_number\"]"
   ]
  },
  {
   "cell_type": "code",
   "execution_count": 25,
   "id": "1e1b9b6b",
   "metadata": {
    "ExecuteTime": {
     "end_time": "2023-12-09T15:14:21.658054Z",
     "start_time": "2023-12-09T15:14:18.828455Z"
    }
   },
   "outputs": [
    {
     "name": "stdout",
     "output_type": "stream",
     "text": [
      "-RECORD 0------------------------------------\n",
      " tpep_pickup_datetime  | 2015-01-01 01:25:19 \n",
      " tpep_dropoff_datetime | 2015-01-01 01:38:41 \n",
      " trip_duration_minutes | 13.366666666666667  \n",
      " is_weekend            | 0                   \n",
      " week_number           | 1                   \n",
      "-RECORD 1------------------------------------\n",
      " tpep_pickup_datetime  | 2015-01-01 01:45:23 \n",
      " tpep_dropoff_datetime | 2015-01-01 01:49:25 \n",
      " trip_duration_minutes | 4.033333333333333   \n",
      " is_weekend            | 0                   \n",
      " week_number           | 1                   \n",
      "-RECORD 2------------------------------------\n",
      " tpep_pickup_datetime  | 2015-01-01 01:28:16 \n",
      " tpep_dropoff_datetime | 2015-01-01 01:38:17 \n",
      " trip_duration_minutes | 10.016666666666667  \n",
      " is_weekend            | 0                   \n",
      " week_number           | 1                   \n",
      "-RECORD 3------------------------------------\n",
      " tpep_pickup_datetime  | 2015-01-01 01:59:42 \n",
      " tpep_dropoff_datetime | 2015-01-01 02:18:16 \n",
      " trip_duration_minutes | 18.566666666666666  \n",
      " is_weekend            | 0                   \n",
      " week_number           | 1                   \n",
      "-RECORD 4------------------------------------\n",
      " tpep_pickup_datetime  | 2015-01-01 01:53:54 \n",
      " tpep_dropoff_datetime | 2015-01-01 02:10:51 \n",
      " trip_duration_minutes | 16.95               \n",
      " is_weekend            | 0                   \n",
      " week_number           | 1                   \n",
      "-RECORD 5------------------------------------\n",
      " tpep_pickup_datetime  | 2015-01-01 01:57:35 \n",
      " tpep_dropoff_datetime | 2015-01-01 02:14:08 \n",
      " trip_duration_minutes | 16.55               \n",
      " is_weekend            | 0                   \n",
      " week_number           | 1                   \n",
      "-RECORD 6------------------------------------\n",
      " tpep_pickup_datetime  | 2015-01-01 01:37:13 \n",
      " tpep_dropoff_datetime | 2015-01-01 01:43:53 \n",
      " trip_duration_minutes | 6.666666666666667   \n",
      " is_weekend            | 0                   \n",
      " week_number           | 1                   \n",
      "-RECORD 7------------------------------------\n",
      " tpep_pickup_datetime  | 2015-01-01 01:35:53 \n",
      " tpep_dropoff_datetime | 2015-01-01 01:52:35 \n",
      " trip_duration_minutes | 16.7                \n",
      " is_weekend            | 0                   \n",
      " week_number           | 1                   \n",
      "-RECORD 8------------------------------------\n",
      " tpep_pickup_datetime  | 2015-01-01 01:58:27 \n",
      " tpep_dropoff_datetime | 2015-01-01 02:10:44 \n",
      " trip_duration_minutes | 12.283333333333333  \n",
      " is_weekend            | 0                   \n",
      " week_number           | 1                   \n",
      "-RECORD 9------------------------------------\n",
      " tpep_pickup_datetime  | 2015-01-01 01:53:19 \n",
      " tpep_dropoff_datetime | 2015-01-01 02:01:20 \n",
      " trip_duration_minutes | 8.016666666666667   \n",
      " is_weekend            | 0                   \n",
      " week_number           | 1                   \n",
      "-RECORD 10-----------------------------------\n",
      " tpep_pickup_datetime  | 2015-01-01 01:17:41 \n",
      " tpep_dropoff_datetime | 2015-01-01 01:22:31 \n",
      " trip_duration_minutes | 4.833333333333333   \n",
      " is_weekend            | 0                   \n",
      " week_number           | 1                   \n",
      "-RECORD 11-----------------------------------\n",
      " tpep_pickup_datetime  | 2015-01-01 01:15:35 \n",
      " tpep_dropoff_datetime | 2015-01-01 01:32:45 \n",
      " trip_duration_minutes | 17.166666666666668  \n",
      " is_weekend            | 0                   \n",
      " week_number           | 1                   \n",
      "-RECORD 12-----------------------------------\n",
      " tpep_pickup_datetime  | 2015-01-01 01:37:51 \n",
      " tpep_dropoff_datetime | 2015-01-01 01:48:30 \n",
      " trip_duration_minutes | 10.65               \n",
      " is_weekend            | 0                   \n",
      " week_number           | 1                   \n",
      "-RECORD 13-----------------------------------\n",
      " tpep_pickup_datetime  | 2015-01-01 01:53:55 \n",
      " tpep_dropoff_datetime | 2015-01-01 01:57:13 \n",
      " trip_duration_minutes | 3.3                 \n",
      " is_weekend            | 0                   \n",
      " week_number           | 1                   \n",
      "-RECORD 14-----------------------------------\n",
      " tpep_pickup_datetime  | 2015-01-01 01:34:55 \n",
      " tpep_dropoff_datetime | 2015-01-01 01:47:14 \n",
      " trip_duration_minutes | 12.316666666666666  \n",
      " is_weekend            | 0                   \n",
      " week_number           | 1                   \n",
      "-RECORD 15-----------------------------------\n",
      " tpep_pickup_datetime  | 2015-01-01 01:04:11 \n",
      " tpep_dropoff_datetime | 2015-01-01 01:11:24 \n",
      " trip_duration_minutes | 7.216666666666667   \n",
      " is_weekend            | 0                   \n",
      " week_number           | 1                   \n",
      "-RECORD 16-----------------------------------\n",
      " tpep_pickup_datetime  | 2015-01-01 01:50:09 \n",
      " tpep_dropoff_datetime | 2015-01-01 02:16:40 \n",
      " trip_duration_minutes | 26.516666666666666  \n",
      " is_weekend            | 0                   \n",
      " week_number           | 1                   \n",
      "-RECORD 17-----------------------------------\n",
      " tpep_pickup_datetime  | 2015-01-01 01:21:02 \n",
      " tpep_dropoff_datetime | 2015-01-01 01:36:08 \n",
      " trip_duration_minutes | 15.1                \n",
      " is_weekend            | 0                   \n",
      " week_number           | 1                   \n",
      "-RECORD 18-----------------------------------\n",
      " tpep_pickup_datetime  | 2015-01-01 01:48:04 \n",
      " tpep_dropoff_datetime | 2015-01-01 01:54:25 \n",
      " trip_duration_minutes | 6.35                \n",
      " is_weekend            | 0                   \n",
      " week_number           | 1                   \n",
      "-RECORD 19-----------------------------------\n",
      " tpep_pickup_datetime  | 2015-01-01 01:25:42 \n",
      " tpep_dropoff_datetime | 2015-01-01 01:38:43 \n",
      " trip_duration_minutes | 13.016666666666667  \n",
      " is_weekend            | 0                   \n",
      " week_number           | 1                   \n",
      "only showing top 20 rows\n",
      "\n"
     ]
    }
   ],
   "source": [
    "preview_df = yellow_df_week_number.select(selected_features)\n",
    "preview_df.show(20, vertical=True)"
   ]
  },
  {
   "cell_type": "markdown",
   "id": "a5580ea4",
   "metadata": {},
   "source": [
    "## Analyses - Answer the following 5 questions (by showing the output and and a short 1-2 sentences regarding your observation/answer) \n",
    "\n",
    "MUST Use the PySpark SQL API.\n",
    "\n",
    "DO NOT explicitly write SQL queries. Doing so will result in 50% deduction (for the question). Check lab 7.\n",
    "\n",
    "You are free to add columns if it will help in answering a question and add useful info to the dataset."
   ]
  },
  {
   "cell_type": "markdown",
   "id": "9f1696d6",
   "metadata": {},
   "source": [
    "### 1- What is the average fare amount per payment type "
   ]
  },
  {
   "cell_type": "code",
   "execution_count": 26,
   "id": "97654b5c",
   "metadata": {
    "ExecuteTime": {
     "end_time": "2023-12-09T15:14:21.676761Z",
     "start_time": "2023-12-09T15:14:21.659606Z"
    }
   },
   "outputs": [],
   "source": [
    "average_fare_per_payment_type = yellow_df_week_number.groupBy(\"payment_type\").agg(avg(\"fare_amount\").alias(\"average_fare\"))"
   ]
  },
  {
   "cell_type": "code",
   "execution_count": 27,
   "id": "0175e1aa",
   "metadata": {
    "ExecuteTime": {
     "end_time": "2023-12-09T15:14:28.058811Z",
     "start_time": "2023-12-09T15:14:21.678191Z"
    }
   },
   "outputs": [
    {
     "name": "stdout",
     "output_type": "stream",
     "text": [
      "+------------+------------------+\n",
      "|payment_type|      average_fare|\n",
      "+------------+------------------+\n",
      "|     Unknown|11.805914899858447|\n",
      "|        Cash| 10.96699928944869|\n",
      "|     Dispute| 9.171704940848985|\n",
      "|   No charge|10.188251557137416|\n",
      "| Credit card|12.505705603533212|\n",
      "+------------+------------------+\n",
      "\n"
     ]
    }
   ],
   "source": [
    "average_fare_per_payment_type.show()"
   ]
  },
  {
   "cell_type": "markdown",
   "id": "281874a7",
   "metadata": {},
   "source": [
    "### 2- Do people tend to go on a longer trips during the weekend or weekdays?"
   ]
  },
  {
   "cell_type": "code",
   "execution_count": 28,
   "id": "cc06dacb",
   "metadata": {
    "ExecuteTime": {
     "end_time": "2023-12-09T15:14:28.080413Z",
     "start_time": "2023-12-09T15:14:28.059889Z"
    }
   },
   "outputs": [],
   "source": [
    "average_duration_by_weekday = yellow_df_week_number.groupBy(\"is_weekend\").agg(f.avg(\"trip_duration_minutes\").alias(\"average_duration\"))"
   ]
  },
  {
   "cell_type": "code",
   "execution_count": 29,
   "id": "6c06966f",
   "metadata": {
    "ExecuteTime": {
     "end_time": "2023-12-09T15:14:38.935528Z",
     "start_time": "2023-12-09T15:14:28.081741Z"
    }
   },
   "outputs": [
    {
     "name": "stdout",
     "output_type": "stream",
     "text": [
      "+----------+------------------+\n",
      "|is_weekend|  average_duration|\n",
      "+----------+------------------+\n",
      "|         1|15.120724932353053|\n",
      "|         0|13.744531820292934|\n",
      "+----------+------------------+\n",
      "\n"
     ]
    }
   ],
   "source": [
    "average_duration_by_weekday.show()"
   ]
  },
  {
   "cell_type": "markdown",
   "id": "ee349df0",
   "metadata": {},
   "source": [
    "### 3 - which day recorded the most trips?"
   ]
  },
  {
   "cell_type": "code",
   "execution_count": 30,
   "id": "4427c9ee",
   "metadata": {
    "ExecuteTime": {
     "end_time": "2023-12-09T15:14:38.951534Z",
     "start_time": "2023-12-09T15:14:38.936346Z"
    }
   },
   "outputs": [],
   "source": [
    "most_trips_day = yellow_df_week_number.groupBy(dayofweek(\"tpep_pickup_datetime\").alias(\"day_of_week\")).agg(count(\"*\").alias(\"trip_count\")).orderBy(desc(\"trip_count\")).limit(1)"
   ]
  },
  {
   "cell_type": "code",
   "execution_count": 31,
   "id": "414dff4f",
   "metadata": {
    "ExecuteTime": {
     "end_time": "2023-12-09T15:14:43.481587Z",
     "start_time": "2023-12-09T15:14:38.952132Z"
    }
   },
   "outputs": [
    {
     "name": "stdout",
     "output_type": "stream",
     "text": [
      "+-----------+----------+\n",
      "|day_of_week|trip_count|\n",
      "+-----------+----------+\n",
      "|          7|   2374382|\n",
      "+-----------+----------+\n",
      "\n"
     ]
    }
   ],
   "source": [
    "most_trips_day.show()"
   ]
  },
  {
   "cell_type": "markdown",
   "id": "f8dc3e82",
   "metadata": {},
   "source": [
    "### 4- What is the average \"total amount\" of trips with more than 2 passengers?"
   ]
  },
  {
   "cell_type": "code",
   "execution_count": 32,
   "id": "4ceebb49",
   "metadata": {
    "ExecuteTime": {
     "end_time": "2023-12-09T15:14:43.519139Z",
     "start_time": "2023-12-09T15:14:43.484332Z"
    }
   },
   "outputs": [],
   "source": [
    "average_total_amount_for_more_than_2_passengers = yellow_df_week_number.filter(col(\"passenger_count\") > 2).agg(avg(\"total_amount\").alias(\"average_total_amount\"))"
   ]
  },
  {
   "cell_type": "code",
   "execution_count": 33,
   "id": "annual-resolution",
   "metadata": {
    "ExecuteTime": {
     "end_time": "2023-12-09T15:14:48.948607Z",
     "start_time": "2023-12-09T15:14:43.520570Z"
    }
   },
   "outputs": [
    {
     "name": "stdout",
     "output_type": "stream",
     "text": [
      "+--------------------+\n",
      "|average_total_amount|\n",
      "+--------------------+\n",
      "|  14.850233581991185|\n",
      "+--------------------+\n",
      "\n"
     ]
    }
   ],
   "source": [
    "average_total_amount_for_more_than_2_passengers.show()"
   ]
  },
  {
   "cell_type": "markdown",
   "id": "d090c1af",
   "metadata": {},
   "source": [
    "### 5- On average, when is it more likely that the tip is higher, when there are multiple passengers or just 1.?"
   ]
  },
  {
   "cell_type": "code",
   "execution_count": 34,
   "id": "56ea2ad5",
   "metadata": {
    "ExecuteTime": {
     "end_time": "2023-12-09T15:14:48.966023Z",
     "start_time": "2023-12-09T15:14:48.949479Z"
    }
   },
   "outputs": [],
   "source": [
    "average_tip_amount_for_passenger_count = yellow_df_week_number.groupBy(\"passenger_count\").agg(avg(\"tip_amount\").alias(\"average_tip_amount\"))"
   ]
  },
  {
   "cell_type": "code",
   "execution_count": 35,
   "id": "c6034abd",
   "metadata": {
    "ExecuteTime": {
     "end_time": "2023-12-09T15:14:53.835500Z",
     "start_time": "2023-12-09T15:14:48.967421Z"
    }
   },
   "outputs": [
    {
     "name": "stdout",
     "output_type": "stream",
     "text": [
      "+---------------+------------------+\n",
      "|passenger_count|average_tip_amount|\n",
      "+---------------+------------------+\n",
      "|            8.0|             1.209|\n",
      "|            0.0|1.4423953559425604|\n",
      "|            7.0| 2.088888888888889|\n",
      "|            1.0| 1.999657552001739|\n",
      "|            4.0|1.3399863250295432|\n",
      "|            3.0|1.4408743556432586|\n",
      "|            2.0|1.5419974289131988|\n",
      "|            6.0|1.5064134995091336|\n",
      "|            5.0|1.5425411227032313|\n",
      "|            9.0| 6.836363636363637|\n",
      "+---------------+------------------+\n",
      "\n"
     ]
    }
   ],
   "source": [
    "average_tip_amount_for_passenger_count.show()"
   ]
  },
  {
   "cell_type": "markdown",
   "id": "ee83fe0b",
   "metadata": {},
   "source": [
    "### 6- What is the most frequent route on the weekend. "
   ]
  },
  {
   "cell_type": "code",
   "execution_count": 36,
   "id": "448ae113",
   "metadata": {
    "ExecuteTime": {
     "end_time": "2023-12-09T15:14:53.974490Z",
     "start_time": "2023-12-09T15:14:53.839544Z"
    }
   },
   "outputs": [],
   "source": [
    "most_frequent_route_weekend = yellow_df_week_number.filter(\"is_weekend = 1\").groupBy(\"pu_location\", \"do_location\").agg(count(\"*\").alias(\"trip_count\")).orderBy(desc(\"trip_count\")).limit(1)"
   ]
  },
  {
   "cell_type": "code",
   "execution_count": 37,
   "id": "211d3ba3",
   "metadata": {
    "ExecuteTime": {
     "end_time": "2023-12-09T15:15:01.535735Z",
     "start_time": "2023-12-09T15:14:53.978666Z"
    }
   },
   "outputs": [
    {
     "name": "stdout",
     "output_type": "stream",
     "text": [
      "+-----------+-----------+----------+\n",
      "|pu_location|do_location|trip_count|\n",
      "+-----------+-----------+----------+\n",
      "| Unknown,NV| Unknown,NV|     67236|\n",
      "+-----------+-----------+----------+\n",
      "\n"
     ]
    }
   ],
   "source": [
    "most_frequent_route_weekend.show()"
   ]
  },
  {
   "cell_type": "markdown",
   "id": "dfd702ec",
   "metadata": {},
   "source": [
    "## Encoding\n",
    "- Label encode all categorical fetaures.\n",
    "- Create a lookup table for these label encoded features. You can use the same format/example as the lookup table in Milestone 1 description.\n",
    "\n",
    "(You are allowed to store and manipulate the lookup table as a pandas dataframe, it does not have to be a PySpark df).\n",
    "- Remove the original unencoded categorical features from the df after encoding."
   ]
  },
  {
   "cell_type": "code",
   "execution_count": null,
   "id": "6201431d",
   "metadata": {},
   "outputs": [],
   "source": [
    "yellow_df_week_number = yellow_df_week_number.withColumn(\"tpep_pickup_datetime\", col(\"tpep_pickup_datetime\").cast(DateType()))\n",
    "yellow_df_week_number = yellow_df_week_number.withColumn(\"tpep_dropoff_datetime\", col(\"tpep_dropoff_datetime\").cast(DateType()))"
   ]
  },
  {
   "cell_type": "code",
   "execution_count": 38,
   "id": "cc07c545",
   "metadata": {
    "ExecuteTime": {
     "end_time": "2023-12-09T15:15:34.024648Z",
     "start_time": "2023-12-09T15:15:01.536665Z"
    }
   },
   "outputs": [],
   "source": [
    "def label_encode(df):\n",
    "    categorical_columns = [col_name for col_name, col_type in df.dtypes if not isinstance(col_type, NumericType)]\n",
    "    indexers = [\n",
    "        StringIndexer(inputCol=column, outputCol=f\"{column}_encoded\")\n",
    "        for column in categorical_columns\n",
    "    ]\n",
    "    pipeline = Pipeline(stages=indexers)\n",
    "    model = pipeline.fit(df)\n",
    "    encoded_df = model.transform(df)\n",
    "\n",
    "    lookup_table = {\n",
    "        column: {original: encoded for original, encoded in zip(model.stages[i].labels, range(len(model.stages[i].labels)))}\n",
    "        for i, column in enumerate(categorical_columns)\n",
    "    }\n",
    "    encoded_df.drop(*categorical_columns)\n",
    "    return encoded_df, lookup_table"
   ]
  },
  {
   "cell_type": "code",
   "execution_count": null,
   "id": "9fa13192",
   "metadata": {},
   "outputs": [],
   "source": [
    "yellow_df_encoded, lookup_table = label_encode(yellow_df_week_number)"
   ]
  },
  {
   "cell_type": "markdown",
   "id": "7a810bca",
   "metadata": {},
   "source": [
    "### Preview first 20 rows of the label encoded features"
   ]
  },
  {
   "cell_type": "code",
   "execution_count": 39,
   "id": "54de3b3e",
   "metadata": {
    "ExecuteTime": {
     "end_time": "2023-12-09T15:15:40.176222Z",
     "start_time": "2023-12-09T15:15:34.025194Z"
    }
   },
   "outputs": [
    {
     "name": "stdout",
     "output_type": "stream",
     "text": [
      "-RECORD 0----------------------------------------\n",
      " tpep_pickup_datetime       | 2015-01-01         \n",
      " tpep_dropoff_datetime      | 2015-01-01         \n",
      " passenger_count            | 1.0                \n",
      " trip_distance              | 0.48               \n",
      " fare_amount                | 4.0                \n",
      " extra                      | 0.5                \n",
      " mta_tax                    | 0.5                \n",
      " tip_amount                 | 0.0                \n",
      " tolls_amount               | 0.0                \n",
      " improvement_surcharge      | 0.3                \n",
      " total_amount               | 5.3                \n",
      " congestion_surcharge       | 0                  \n",
      " airport_fee                | 0                  \n",
      " trip_duration_minutes      | 2.3666666666666667 \n",
      " is_weekend                 | 0                  \n",
      " week_number                | 1                  \n",
      " vendor_encoded             | 0.0                \n",
      " rate_type_encoded          | 0.0                \n",
      " store_and_fwd_flag_encoded | 0.0                \n",
      " pu_location_encoded        | 10.0               \n",
      " do_location_encoded        | 36.0               \n",
      " payment_type_encoded       | 1.0                \n",
      "-RECORD 1----------------------------------------\n",
      " tpep_pickup_datetime       | 2015-01-01         \n",
      " tpep_dropoff_datetime      | 2015-01-01         \n",
      " passenger_count            | 1.0                \n",
      " trip_distance              | 0.46               \n",
      " fare_amount                | 3.5                \n",
      " extra                      | 0.5                \n",
      " mta_tax                    | 0.5                \n",
      " tip_amount                 | 2.0                \n",
      " tolls_amount               | 0.0                \n",
      " improvement_surcharge      | 0.3                \n",
      " total_amount               | 6.8                \n",
      " congestion_surcharge       | 0                  \n",
      " airport_fee                | 0                  \n",
      " trip_duration_minutes      | 1.65               \n",
      " is_weekend                 | 0                  \n",
      " week_number                | 1                  \n",
      " vendor_encoded             | 0.0                \n",
      " rate_type_encoded          | 0.0                \n",
      " store_and_fwd_flag_encoded | 0.0                \n",
      " pu_location_encoded        | 18.0               \n",
      " do_location_encoded        | 22.0               \n",
      " payment_type_encoded       | 0.0                \n",
      "-RECORD 2----------------------------------------\n",
      " tpep_pickup_datetime       | 2015-01-01         \n",
      " tpep_dropoff_datetime      | 2015-01-01         \n",
      " passenger_count            | 1.0                \n",
      " trip_distance              | 0.5                \n",
      " fare_amount                | 4.5                \n",
      " extra                      | 0.5                \n",
      " mta_tax                    | 0.5                \n",
      " tip_amount                 | 0.0                \n",
      " tolls_amount               | 0.0                \n",
      " improvement_surcharge      | 0.0                \n",
      " total_amount               | 5.8                \n",
      " congestion_surcharge       | 0                  \n",
      " airport_fee                | 0                  \n",
      " trip_duration_minutes      | 3.566666666666667  \n",
      " is_weekend                 | 0                  \n",
      " week_number                | 1                  \n",
      " vendor_encoded             | 1.0                \n",
      " rate_type_encoded          | 0.0                \n",
      " store_and_fwd_flag_encoded | 0.0                \n",
      " pu_location_encoded        | 3.0                \n",
      " do_location_encoded        | 49.0               \n",
      " payment_type_encoded       | 1.0                \n",
      "-RECORD 3----------------------------------------\n",
      " tpep_pickup_datetime       | 2015-01-01         \n",
      " tpep_dropoff_datetime      | 2015-01-01         \n",
      " passenger_count            | 3.0                \n",
      " trip_distance              | 0.9                \n",
      " fare_amount                | 6.5                \n",
      " extra                      | 0.5                \n",
      " mta_tax                    | 0.5                \n",
      " tip_amount                 | 0.0                \n",
      " tolls_amount               | 0.0                \n",
      " improvement_surcharge      | 0.0                \n",
      " total_amount               | 7.8                \n",
      " congestion_surcharge       | 0                  \n",
      " airport_fee                | 0                  \n",
      " trip_duration_minutes      | 7.216666666666667  \n",
      " is_weekend                 | 0                  \n",
      " week_number                | 1                  \n",
      " vendor_encoded             | 1.0                \n",
      " rate_type_encoded          | 0.0                \n",
      " store_and_fwd_flag_encoded | 0.0                \n",
      " pu_location_encoded        | 19.0               \n",
      " do_location_encoded        | 17.0               \n",
      " payment_type_encoded       | 2.0                \n",
      "-RECORD 4----------------------------------------\n",
      " tpep_pickup_datetime       | 2015-01-01         \n",
      " tpep_dropoff_datetime      | 2015-01-01         \n",
      " passenger_count            | 1.0                \n",
      " trip_distance              | 3.5                \n",
      " fare_amount                | 11.7               \n",
      " extra                      | 0.5                \n",
      " mta_tax                    | 0.5                \n",
      " tip_amount                 | 1.08               \n",
      " tolls_amount               | 0.0                \n",
      " improvement_surcharge      | 0.0                \n",
      " total_amount               | 14.08              \n",
      " congestion_surcharge       | 0                  \n",
      " airport_fee                | 0                  \n",
      " trip_duration_minutes      | 10.833333333333334 \n",
      " is_weekend                 | 0                  \n",
      " week_number                | 1                  \n",
      " vendor_encoded             | 1.0                \n",
      " rate_type_encoded          | 0.0                \n",
      " store_and_fwd_flag_encoded | 0.0                \n",
      " pu_location_encoded        | 11.0               \n",
      " do_location_encoded        | 46.0               \n",
      " payment_type_encoded       | 0.0                \n",
      "-RECORD 5----------------------------------------\n",
      " tpep_pickup_datetime       | 2015-01-01         \n",
      " tpep_dropoff_datetime      | 2015-01-01         \n",
      " passenger_count            | 1.0                \n",
      " trip_distance              | 0.6                \n",
      " fare_amount                | 4.2                \n",
      " extra                      | 0.5                \n",
      " mta_tax                    | 0.5                \n",
      " tip_amount                 | 1.5                \n",
      " tolls_amount               | 0.0                \n",
      " improvement_surcharge      | 0.0                \n",
      " total_amount               | 7.0                \n",
      " congestion_surcharge       | 0                  \n",
      " airport_fee                | 0                  \n",
      " trip_duration_minutes      | 3.75               \n",
      " is_weekend                 | 0                  \n",
      " week_number                | 1                  \n",
      " vendor_encoded             | 1.0                \n",
      " rate_type_encoded          | 0.0                \n",
      " store_and_fwd_flag_encoded | 0.0                \n",
      " pu_location_encoded        | 48.0               \n",
      " do_location_encoded        | 51.0               \n",
      " payment_type_encoded       | 0.0                \n",
      "-RECORD 6----------------------------------------\n",
      " tpep_pickup_datetime       | 2015-01-01         \n",
      " tpep_dropoff_datetime      | 2015-01-01         \n",
      " passenger_count            | 1.0                \n",
      " trip_distance              | 0.53               \n",
      " fare_amount                | 4.0                \n",
      " extra                      | 0.5                \n",
      " mta_tax                    | 0.5                \n",
      " tip_amount                 | 0.0                \n",
      " tolls_amount               | 0.0                \n",
      " improvement_surcharge      | 0.3                \n",
      " total_amount               | 5.3                \n",
      " congestion_surcharge       | 0                  \n",
      " airport_fee                | 0                  \n",
      " trip_duration_minutes      | 2.466666666666667  \n",
      " is_weekend                 | 0                  \n",
      " week_number                | 1                  \n",
      " vendor_encoded             | 0.0                \n",
      " rate_type_encoded          | 0.0                \n",
      " store_and_fwd_flag_encoded | 0.0                \n",
      " pu_location_encoded        | 5.0                \n",
      " do_location_encoded        | 6.0                \n",
      " payment_type_encoded       | 1.0                \n",
      "-RECORD 7----------------------------------------\n",
      " tpep_pickup_datetime       | 2015-01-01         \n",
      " tpep_dropoff_datetime      | 2015-01-01         \n",
      " passenger_count            | 1.0                \n",
      " trip_distance              | 0.87               \n",
      " fare_amount                | 6.0                \n",
      " extra                      | 0.5                \n",
      " mta_tax                    | 0.5                \n",
      " tip_amount                 | 2.0                \n",
      " tolls_amount               | 0.0                \n",
      " improvement_surcharge      | 0.3                \n",
      " total_amount               | 9.3                \n",
      " congestion_surcharge       | 0                  \n",
      " airport_fee                | 0                  \n",
      " trip_duration_minutes      | 6.0                \n",
      " is_weekend                 | 0                  \n",
      " week_number                | 1                  \n",
      " vendor_encoded             | 0.0                \n",
      " rate_type_encoded          | 0.0                \n",
      " store_and_fwd_flag_encoded | 0.0                \n",
      " pu_location_encoded        | 2.0                \n",
      " do_location_encoded        | 1.0                \n",
      " payment_type_encoded       | 0.0                \n",
      "-RECORD 8----------------------------------------\n",
      " tpep_pickup_datetime       | 2015-01-01         \n",
      " tpep_dropoff_datetime      | 2015-01-01         \n",
      " passenger_count            | 5.0                \n",
      " trip_distance              | 2.94               \n",
      " fare_amount                | 10.0               \n",
      " extra                      | 0.5                \n",
      " mta_tax                    | 0.5                \n",
      " tip_amount                 | 0.0                \n",
      " tolls_amount               | 0.0                \n",
      " improvement_surcharge      | 0.3                \n",
      " total_amount               | 11.3               \n",
      " congestion_surcharge       | 0                  \n",
      " airport_fee                | 0                  \n",
      " trip_duration_minutes      | 8.466666666666667  \n",
      " is_weekend                 | 0                  \n",
      " week_number                | 1                  \n",
      " vendor_encoded             | 0.0                \n",
      " rate_type_encoded          | 0.0                \n",
      " store_and_fwd_flag_encoded | 0.0                \n",
      " pu_location_encoded        | 0.0                \n",
      " do_location_encoded        | 43.0               \n",
      " payment_type_encoded       | 1.0                \n",
      "-RECORD 9----------------------------------------\n",
      " tpep_pickup_datetime       | 2015-01-01         \n",
      " tpep_dropoff_datetime      | 2015-01-01         \n",
      " passenger_count            | 1.0                \n",
      " trip_distance              | 0.7                \n",
      " fare_amount                | 6.0                \n",
      " extra                      | 0.5                \n",
      " mta_tax                    | 0.5                \n",
      " tip_amount                 | 0.0                \n",
      " tolls_amount               | 0.0                \n",
      " improvement_surcharge      | 0.3                \n",
      " total_amount               | 7.3                \n",
      " congestion_surcharge       | 0                  \n",
      " airport_fee                | 0                  \n",
      " trip_duration_minutes      | 6.4                \n",
      " is_weekend                 | 0                  \n",
      " week_number                | 1                  \n",
      " vendor_encoded             | 0.0                \n",
      " rate_type_encoded          | 0.0                \n",
      " store_and_fwd_flag_encoded | 0.0                \n",
      " pu_location_encoded        | 30.0               \n",
      " do_location_encoded        | 7.0                \n",
      " payment_type_encoded       | 1.0                \n",
      "-RECORD 10---------------------------------------\n",
      " tpep_pickup_datetime       | 2015-01-01         \n",
      " tpep_dropoff_datetime      | 2015-01-01         \n",
      " passenger_count            | 1.0                \n",
      " trip_distance              | 1.2                \n",
      " fare_amount                | 6.7                \n",
      " extra                      | 0.5                \n",
      " mta_tax                    | 0.5                \n",
      " tip_amount                 | 2.4                \n",
      " tolls_amount               | 0.0                \n",
      " improvement_surcharge      | 0.0                \n",
      " total_amount               | 10.4               \n",
      " congestion_surcharge       | 0                  \n",
      " airport_fee                | 0                  \n",
      " trip_duration_minutes      | 7.516666666666667  \n",
      " is_weekend                 | 0                  \n",
      " week_number                | 1                  \n",
      " vendor_encoded             | 1.0                \n",
      " rate_type_encoded          | 0.0                \n",
      " store_and_fwd_flag_encoded | 0.0                \n",
      " pu_location_encoded        | 0.0                \n",
      " do_location_encoded        | 12.0               \n",
      " payment_type_encoded       | 0.0                \n",
      "-RECORD 11---------------------------------------\n",
      " tpep_pickup_datetime       | 2015-01-01         \n",
      " tpep_dropoff_datetime      | 2015-01-01         \n",
      " passenger_count            | 1.0                \n",
      " trip_distance              | 1.1                \n",
      " fare_amount                | 6.0                \n",
      " extra                      | 0.5                \n",
      " mta_tax                    | 0.5                \n",
      " tip_amount                 | 0.01               \n",
      " tolls_amount               | 0.0                \n",
      " improvement_surcharge      | 0.0                \n",
      " total_amount               | 7.31               \n",
      " congestion_surcharge       | 0                  \n",
      " airport_fee                | 0                  \n",
      " trip_duration_minutes      | 5.833333333333333  \n",
      " is_weekend                 | 0                  \n",
      " week_number                | 1                  \n",
      " vendor_encoded             | 1.0                \n",
      " rate_type_encoded          | 0.0                \n",
      " store_and_fwd_flag_encoded | 0.0                \n",
      " pu_location_encoded        | 119.0              \n",
      " do_location_encoded        | 126.0              \n",
      " payment_type_encoded       | 2.0                \n",
      "-RECORD 12---------------------------------------\n",
      " tpep_pickup_datetime       | 2015-01-01         \n",
      " tpep_dropoff_datetime      | 2015-01-01         \n",
      " passenger_count            | 1.0                \n",
      " trip_distance              | 1.25               \n",
      " fare_amount                | 7.0                \n",
      " extra                      | 0.5                \n",
      " mta_tax                    | 0.5                \n",
      " tip_amount                 | 0.0                \n",
      " tolls_amount               | 0.0                \n",
      " improvement_surcharge      | 0.3                \n",
      " total_amount               | 8.3                \n",
      " congestion_surcharge       | 0                  \n",
      " airport_fee                | 0                  \n",
      " trip_duration_minutes      | 7.383333333333334  \n",
      " is_weekend                 | 0                  \n",
      " week_number                | 1                  \n",
      " vendor_encoded             | 0.0                \n",
      " rate_type_encoded          | 0.0                \n",
      " store_and_fwd_flag_encoded | 0.0                \n",
      " pu_location_encoded        | 26.0               \n",
      " do_location_encoded        | 13.0               \n",
      " payment_type_encoded       | 1.0                \n",
      "-RECORD 13---------------------------------------\n",
      " tpep_pickup_datetime       | 2015-01-01         \n",
      " tpep_dropoff_datetime      | 2015-01-01         \n",
      " passenger_count            | 1.0                \n",
      " trip_distance              | 3.71               \n",
      " fare_amount                | 14.0               \n",
      " extra                      | 0.5                \n",
      " mta_tax                    | 0.5                \n",
      " tip_amount                 | 2.9                \n",
      " tolls_amount               | 0.0                \n",
      " improvement_surcharge      | 0.3                \n",
      " total_amount               | 18.2               \n",
      " congestion_surcharge       | 0                  \n",
      " airport_fee                | 0                  \n",
      " trip_duration_minutes      | 11.333333333333334 \n",
      " is_weekend                 | 0                  \n",
      " week_number                | 1                  \n",
      " vendor_encoded             | 0.0                \n",
      " rate_type_encoded          | 0.0                \n",
      " store_and_fwd_flag_encoded | 0.0                \n",
      " pu_location_encoded        | 27.0               \n",
      " do_location_encoded        | 8.0                \n",
      " payment_type_encoded       | 0.0                \n",
      "-RECORD 14---------------------------------------\n",
      " tpep_pickup_datetime       | 2015-01-01         \n",
      " tpep_dropoff_datetime      | 2015-01-01         \n",
      " passenger_count            | 1.0                \n",
      " trip_distance              | 1.32               \n",
      " fare_amount                | 6.0                \n",
      " extra                      | 0.5                \n",
      " mta_tax                    | 0.5                \n",
      " tip_amount                 | 1.0                \n",
      " tolls_amount               | 0.0                \n",
      " improvement_surcharge      | 0.3                \n",
      " total_amount               | 8.3                \n",
      " congestion_surcharge       | 0                  \n",
      " airport_fee                | 0                  \n",
      " trip_duration_minutes      | 4.916666666666667  \n",
      " is_weekend                 | 0                  \n",
      " week_number                | 1                  \n",
      " vendor_encoded             | 0.0                \n",
      " rate_type_encoded          | 0.0                \n",
      " store_and_fwd_flag_encoded | 0.0                \n",
      " pu_location_encoded        | 5.0                \n",
      " do_location_encoded        | 31.0               \n",
      " payment_type_encoded       | 0.0                \n",
      "-RECORD 15---------------------------------------\n",
      " tpep_pickup_datetime       | 2015-01-01         \n",
      " tpep_dropoff_datetime      | 2015-01-01         \n",
      " passenger_count            | 1.0                \n",
      " trip_distance              | 2.55               \n",
      " fare_amount                | 10.5               \n",
      " extra                      | 0.5                \n",
      " mta_tax                    | 0.5                \n",
      " tip_amount                 | 0.0                \n",
      " tolls_amount               | 0.0                \n",
      " improvement_surcharge      | 0.3                \n",
      " total_amount               | 11.8               \n",
      " congestion_surcharge       | 0                  \n",
      " airport_fee                | 0                  \n",
      " trip_duration_minutes      | 10.216666666666667 \n",
      " is_weekend                 | 0                  \n",
      " week_number                | 1                  \n",
      " vendor_encoded             | 0.0                \n",
      " rate_type_encoded          | 0.0                \n",
      " store_and_fwd_flag_encoded | 0.0                \n",
      " pu_location_encoded        | 31.0               \n",
      " do_location_encoded        | 24.0               \n",
      " payment_type_encoded       | 1.0                \n",
      "-RECORD 16---------------------------------------\n",
      " tpep_pickup_datetime       | 2015-01-01         \n",
      " tpep_dropoff_datetime      | 2015-01-01         \n",
      " passenger_count            | 3.0                \n",
      " trip_distance              | 2.6                \n",
      " fare_amount                | 10.0               \n",
      " extra                      | 0.5                \n",
      " mta_tax                    | 0.5                \n",
      " tip_amount                 | 0.0                \n",
      " tolls_amount               | 0.0                \n",
      " improvement_surcharge      | 0.0                \n",
      " total_amount               | 11.3               \n",
      " congestion_surcharge       | 0                  \n",
      " airport_fee                | 0                  \n",
      " trip_duration_minutes      | 8.733333333333333  \n",
      " is_weekend                 | 0                  \n",
      " week_number                | 1                  \n",
      " vendor_encoded             | 1.0                \n",
      " rate_type_encoded          | 0.0                \n",
      " store_and_fwd_flag_encoded | 0.0                \n",
      " pu_location_encoded        | 21.0               \n",
      " do_location_encoded        | 45.0               \n",
      " payment_type_encoded       | 1.0                \n",
      "-RECORD 17---------------------------------------\n",
      " tpep_pickup_datetime       | 2015-01-01         \n",
      " tpep_dropoff_datetime      | 2015-01-01         \n",
      " passenger_count            | 1.0                \n",
      " trip_distance              | 1.18               \n",
      " fare_amount                | 6.0                \n",
      " extra                      | 0.5                \n",
      " mta_tax                    | 0.5                \n",
      " tip_amount                 | 0.0                \n",
      " tolls_amount               | 0.0                \n",
      " improvement_surcharge      | 0.3                \n",
      " total_amount               | 7.3                \n",
      " congestion_surcharge       | 0                  \n",
      " airport_fee                | 0                  \n",
      " trip_duration_minutes      | 4.833333333333333  \n",
      " is_weekend                 | 0                  \n",
      " week_number                | 1                  \n",
      " vendor_encoded             | 0.0                \n",
      " rate_type_encoded          | 0.0                \n",
      " store_and_fwd_flag_encoded | 0.0                \n",
      " pu_location_encoded        | 14.0               \n",
      " do_location_encoded        | 20.0               \n",
      " payment_type_encoded       | 1.0                \n",
      "-RECORD 18---------------------------------------\n",
      " tpep_pickup_datetime       | 2015-01-01         \n",
      " tpep_dropoff_datetime      | 2015-01-01         \n",
      " passenger_count            | 1.0                \n",
      " trip_distance              | 2.42               \n",
      " fare_amount                | 11.0               \n",
      " extra                      | 0.5                \n",
      " mta_tax                    | 0.5                \n",
      " tip_amount                 | 2.3                \n",
      " tolls_amount               | 0.0                \n",
      " improvement_surcharge      | 0.3                \n",
      " total_amount               | 14.6               \n",
      " congestion_surcharge       | 0                  \n",
      " airport_fee                | 0                  \n",
      " trip_duration_minutes      | 12.566666666666666 \n",
      " is_weekend                 | 0                  \n",
      " week_number                | 1                  \n",
      " vendor_encoded             | 0.0                \n",
      " rate_type_encoded          | 0.0                \n",
      " store_and_fwd_flag_encoded | 0.0                \n",
      " pu_location_encoded        | 3.0                \n",
      " do_location_encoded        | 13.0               \n",
      " payment_type_encoded       | 0.0                \n",
      "-RECORD 19---------------------------------------\n",
      " tpep_pickup_datetime       | 2015-01-01         \n",
      " tpep_dropoff_datetime      | 2015-01-01         \n",
      " passenger_count            | 2.0                \n",
      " trip_distance              | 2.4                \n",
      " fare_amount                | 12.0               \n",
      " extra                      | 0.5                \n",
      " mta_tax                    | 0.5                \n",
      " tip_amount                 | 1.7                \n",
      " tolls_amount               | 0.0                \n",
      " improvement_surcharge      | 0.0                \n",
      " total_amount               | 15.0               \n",
      " congestion_surcharge       | 0                  \n",
      " airport_fee                | 0                  \n",
      " trip_duration_minutes      | 16.333333333333332 \n",
      " is_weekend                 | 0                  \n",
      " week_number                | 1                  \n",
      " vendor_encoded             | 1.0                \n",
      " rate_type_encoded          | 0.0                \n",
      " store_and_fwd_flag_encoded | 0.0                \n",
      " pu_location_encoded        | 55.0               \n",
      " do_location_encoded        | 6.0                \n",
      " payment_type_encoded       | 0.0                \n",
      "only showing top 20 rows\n",
      "\n"
     ]
    }
   ],
   "source": [
    "label_encoded_preview = yellow_df_encoded.select([col_name for col_name, col_type in df.dtypes if not isinstance(col_type, NumericType)])\n",
    "label_encoded_preview.show(20, vertical=True)"
   ]
  },
  {
   "cell_type": "markdown",
   "id": "547d8fc3",
   "metadata": {},
   "source": [
    "### Preview first 20 rows of your lookup table"
   ]
  },
  {
   "cell_type": "code",
   "execution_count": 40,
   "id": "0e8374f2",
   "metadata": {
    "ExecuteTime": {
     "end_time": "2023-12-09T15:15:40.195543Z",
     "start_time": "2023-12-09T15:15:40.177100Z"
    }
   },
   "outputs": [
    {
     "data": {
      "text/html": [
       "<div>\n",
       "<style scoped>\n",
       "    .dataframe tbody tr th:only-of-type {\n",
       "        vertical-align: middle;\n",
       "    }\n",
       "\n",
       "    .dataframe tbody tr th {\n",
       "        vertical-align: top;\n",
       "    }\n",
       "\n",
       "    .dataframe thead th {\n",
       "        text-align: right;\n",
       "    }\n",
       "</style>\n",
       "<table border=\"1\" class=\"dataframe\">\n",
       "  <thead>\n",
       "    <tr style=\"text-align: right;\">\n",
       "      <th></th>\n",
       "      <th>vendor</th>\n",
       "      <th>rate_type</th>\n",
       "      <th>store_and_fwd_flag</th>\n",
       "      <th>pu_location</th>\n",
       "      <th>do_location</th>\n",
       "      <th>payment_type</th>\n",
       "    </tr>\n",
       "  </thead>\n",
       "  <tbody>\n",
       "    <tr>\n",
       "      <th>VeriFone Inc.</th>\n",
       "      <td>0.0</td>\n",
       "      <td>NaN</td>\n",
       "      <td>NaN</td>\n",
       "      <td>NaN</td>\n",
       "      <td>NaN</td>\n",
       "      <td>NaN</td>\n",
       "    </tr>\n",
       "    <tr>\n",
       "      <th>Creative Mobile Technologies, LLC</th>\n",
       "      <td>1.0</td>\n",
       "      <td>NaN</td>\n",
       "      <td>NaN</td>\n",
       "      <td>NaN</td>\n",
       "      <td>NaN</td>\n",
       "      <td>NaN</td>\n",
       "    </tr>\n",
       "    <tr>\n",
       "      <th>Standard rate</th>\n",
       "      <td>NaN</td>\n",
       "      <td>0.0</td>\n",
       "      <td>NaN</td>\n",
       "      <td>NaN</td>\n",
       "      <td>NaN</td>\n",
       "      <td>NaN</td>\n",
       "    </tr>\n",
       "    <tr>\n",
       "      <th>JFK</th>\n",
       "      <td>NaN</td>\n",
       "      <td>1.0</td>\n",
       "      <td>NaN</td>\n",
       "      <td>NaN</td>\n",
       "      <td>NaN</td>\n",
       "      <td>NaN</td>\n",
       "    </tr>\n",
       "    <tr>\n",
       "      <th>Negotiated fare</th>\n",
       "      <td>NaN</td>\n",
       "      <td>2.0</td>\n",
       "      <td>NaN</td>\n",
       "      <td>NaN</td>\n",
       "      <td>NaN</td>\n",
       "      <td>NaN</td>\n",
       "    </tr>\n",
       "    <tr>\n",
       "      <th>Newark</th>\n",
       "      <td>NaN</td>\n",
       "      <td>3.0</td>\n",
       "      <td>NaN</td>\n",
       "      <td>NaN</td>\n",
       "      <td>NaN</td>\n",
       "      <td>NaN</td>\n",
       "    </tr>\n",
       "    <tr>\n",
       "      <th>Nassau or Westchester</th>\n",
       "      <td>NaN</td>\n",
       "      <td>4.0</td>\n",
       "      <td>NaN</td>\n",
       "      <td>NaN</td>\n",
       "      <td>NaN</td>\n",
       "      <td>NaN</td>\n",
       "    </tr>\n",
       "    <tr>\n",
       "      <th>Unknown</th>\n",
       "      <td>NaN</td>\n",
       "      <td>5.0</td>\n",
       "      <td>NaN</td>\n",
       "      <td>NaN</td>\n",
       "      <td>NaN</td>\n",
       "      <td>2.0</td>\n",
       "    </tr>\n",
       "    <tr>\n",
       "      <th>Group ride</th>\n",
       "      <td>NaN</td>\n",
       "      <td>6.0</td>\n",
       "      <td>NaN</td>\n",
       "      <td>NaN</td>\n",
       "      <td>NaN</td>\n",
       "      <td>NaN</td>\n",
       "    </tr>\n",
       "    <tr>\n",
       "      <th>N</th>\n",
       "      <td>NaN</td>\n",
       "      <td>NaN</td>\n",
       "      <td>0.0</td>\n",
       "      <td>NaN</td>\n",
       "      <td>NaN</td>\n",
       "      <td>NaN</td>\n",
       "    </tr>\n",
       "    <tr>\n",
       "      <th>Y</th>\n",
       "      <td>NaN</td>\n",
       "      <td>NaN</td>\n",
       "      <td>1.0</td>\n",
       "      <td>NaN</td>\n",
       "      <td>NaN</td>\n",
       "      <td>NaN</td>\n",
       "    </tr>\n",
       "    <tr>\n",
       "      <th>Manhattan,Upper East Side South</th>\n",
       "      <td>NaN</td>\n",
       "      <td>NaN</td>\n",
       "      <td>NaN</td>\n",
       "      <td>0.0</td>\n",
       "      <td>2.0</td>\n",
       "      <td>NaN</td>\n",
       "    </tr>\n",
       "    <tr>\n",
       "      <th>Manhattan,Midtown Center</th>\n",
       "      <td>NaN</td>\n",
       "      <td>NaN</td>\n",
       "      <td>NaN</td>\n",
       "      <td>1.0</td>\n",
       "      <td>0.0</td>\n",
       "      <td>NaN</td>\n",
       "    </tr>\n",
       "    <tr>\n",
       "      <th>Manhattan,Upper East Side North</th>\n",
       "      <td>NaN</td>\n",
       "      <td>NaN</td>\n",
       "      <td>NaN</td>\n",
       "      <td>2.0</td>\n",
       "      <td>1.0</td>\n",
       "      <td>NaN</td>\n",
       "    </tr>\n",
       "    <tr>\n",
       "      <th>Manhattan,East Village</th>\n",
       "      <td>NaN</td>\n",
       "      <td>NaN</td>\n",
       "      <td>NaN</td>\n",
       "      <td>3.0</td>\n",
       "      <td>7.0</td>\n",
       "      <td>NaN</td>\n",
       "    </tr>\n",
       "    <tr>\n",
       "      <th>Manhattan,Times Sq/Theatre District</th>\n",
       "      <td>NaN</td>\n",
       "      <td>NaN</td>\n",
       "      <td>NaN</td>\n",
       "      <td>4.0</td>\n",
       "      <td>4.0</td>\n",
       "      <td>NaN</td>\n",
       "    </tr>\n",
       "    <tr>\n",
       "      <th>Manhattan,Union Sq</th>\n",
       "      <td>NaN</td>\n",
       "      <td>NaN</td>\n",
       "      <td>NaN</td>\n",
       "      <td>5.0</td>\n",
       "      <td>6.0</td>\n",
       "      <td>NaN</td>\n",
       "    </tr>\n",
       "    <tr>\n",
       "      <th>Manhattan,Murray Hill</th>\n",
       "      <td>NaN</td>\n",
       "      <td>NaN</td>\n",
       "      <td>NaN</td>\n",
       "      <td>6.0</td>\n",
       "      <td>3.0</td>\n",
       "      <td>NaN</td>\n",
       "    </tr>\n",
       "    <tr>\n",
       "      <th>Manhattan,Midtown East</th>\n",
       "      <td>NaN</td>\n",
       "      <td>NaN</td>\n",
       "      <td>NaN</td>\n",
       "      <td>7.0</td>\n",
       "      <td>5.0</td>\n",
       "      <td>NaN</td>\n",
       "    </tr>\n",
       "    <tr>\n",
       "      <th>Manhattan,Clinton East</th>\n",
       "      <td>NaN</td>\n",
       "      <td>NaN</td>\n",
       "      <td>NaN</td>\n",
       "      <td>8.0</td>\n",
       "      <td>8.0</td>\n",
       "      <td>NaN</td>\n",
       "    </tr>\n",
       "  </tbody>\n",
       "</table>\n",
       "</div>"
      ],
      "text/plain": [
       "                                     vendor  rate_type  store_and_fwd_flag  \\\n",
       "VeriFone Inc.                           0.0        NaN                 NaN   \n",
       "Creative Mobile Technologies, LLC       1.0        NaN                 NaN   \n",
       "Standard rate                           NaN        0.0                 NaN   \n",
       "JFK                                     NaN        1.0                 NaN   \n",
       "Negotiated fare                         NaN        2.0                 NaN   \n",
       "Newark                                  NaN        3.0                 NaN   \n",
       "Nassau or Westchester                   NaN        4.0                 NaN   \n",
       "Unknown                                 NaN        5.0                 NaN   \n",
       "Group ride                              NaN        6.0                 NaN   \n",
       "N                                       NaN        NaN                 0.0   \n",
       "Y                                       NaN        NaN                 1.0   \n",
       "Manhattan,Upper East Side South         NaN        NaN                 NaN   \n",
       "Manhattan,Midtown Center                NaN        NaN                 NaN   \n",
       "Manhattan,Upper East Side North         NaN        NaN                 NaN   \n",
       "Manhattan,East Village                  NaN        NaN                 NaN   \n",
       "Manhattan,Times Sq/Theatre District     NaN        NaN                 NaN   \n",
       "Manhattan,Union Sq                      NaN        NaN                 NaN   \n",
       "Manhattan,Murray Hill                   NaN        NaN                 NaN   \n",
       "Manhattan,Midtown East                  NaN        NaN                 NaN   \n",
       "Manhattan,Clinton East                  NaN        NaN                 NaN   \n",
       "\n",
       "                                     pu_location  do_location  payment_type  \n",
       "VeriFone Inc.                                NaN          NaN           NaN  \n",
       "Creative Mobile Technologies, LLC            NaN          NaN           NaN  \n",
       "Standard rate                                NaN          NaN           NaN  \n",
       "JFK                                          NaN          NaN           NaN  \n",
       "Negotiated fare                              NaN          NaN           NaN  \n",
       "Newark                                       NaN          NaN           NaN  \n",
       "Nassau or Westchester                        NaN          NaN           NaN  \n",
       "Unknown                                      NaN          NaN           2.0  \n",
       "Group ride                                   NaN          NaN           NaN  \n",
       "N                                            NaN          NaN           NaN  \n",
       "Y                                            NaN          NaN           NaN  \n",
       "Manhattan,Upper East Side South              0.0          2.0           NaN  \n",
       "Manhattan,Midtown Center                     1.0          0.0           NaN  \n",
       "Manhattan,Upper East Side North              2.0          1.0           NaN  \n",
       "Manhattan,East Village                       3.0          7.0           NaN  \n",
       "Manhattan,Times Sq/Theatre District          4.0          4.0           NaN  \n",
       "Manhattan,Union Sq                           5.0          6.0           NaN  \n",
       "Manhattan,Murray Hill                        6.0          3.0           NaN  \n",
       "Manhattan,Midtown East                       7.0          5.0           NaN  \n",
       "Manhattan,Clinton East                       8.0          8.0           NaN  "
      ]
     },
     "execution_count": 40,
     "metadata": {},
     "output_type": "execute_result"
    }
   ],
   "source": [
    "lookup_table_df = pd.DataFrame(lookup_table)\n",
    "lookup_table_df.head(20)"
   ]
  },
  {
   "cell_type": "markdown",
   "id": "fcdd7830",
   "metadata": {},
   "source": [
    "### Load the cleaned PySpark df to a parquet file and the lookup table to a csv file."
   ]
  },
  {
   "cell_type": "code",
   "execution_count": 41,
   "id": "90fbdb44",
   "metadata": {
    "ExecuteTime": {
     "end_time": "2023-12-09T15:16:00.587068Z",
     "start_time": "2023-12-09T15:15:40.196273Z"
    }
   },
   "outputs": [],
   "source": [
    "cleaned_parquet_path = \"yellow_trip_data_2015-01clean.parquet\"\n",
    "yellow_df_encoded.write.parquet(cleaned_parquet_path, mode=\"overwrite\")\n",
    "lookup_table_csv_path = \"lookup_table_yellow_taxis.csv\"\n",
    "lookup_table_df.to_csv(lookup_table_csv_path, index=False)"
   ]
  }
 ],
 "metadata": {
  "kernelspec": {
   "display_name": "Python 3",
   "language": "python",
   "name": "python3"
  },
  "language_info": {
   "codemirror_mode": {
    "name": "ipython",
    "version": 3
   },
   "file_extension": ".py",
   "mimetype": "text/x-python",
   "name": "python",
   "nbconvert_exporter": "python",
   "pygments_lexer": "ipython3",
   "version": "3.8.5"
  },
  "toc": {
   "base_numbering": 1,
   "nav_menu": {},
   "number_sections": true,
   "sideBar": true,
   "skip_h1_title": false,
   "title_cell": "Table of Contents",
   "title_sidebar": "Contents",
   "toc_cell": false,
   "toc_position": {},
   "toc_section_display": true,
   "toc_window_display": false
  }
 },
 "nbformat": 4,
 "nbformat_minor": 5
}
